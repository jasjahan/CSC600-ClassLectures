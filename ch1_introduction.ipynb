{
 "cells": [
  {
   "cell_type": "markdown",
   "id": "1a9541ea",
   "metadata": {},
   "source": [
    "# CSC600: Programming (Paradigms) and Programming Languages"
   ]
  },
  {
   "cell_type": "markdown",
   "id": "0cb5be85",
   "metadata": {},
   "source": [
    "## Welcome\n",
    "\n",
    "- Class: CSC 600: Programming (Paradigms) and Programming Languages. 4 sections of CSC 600 for Fall 2021\n",
    "- Every section will have the same material.\n",
    "- 3 instructors\n",
    "    - **Dan Huang**\n",
    "    - Becker Polverini\n",
    "    - Lawrence Kesteloot\n",
    "- Graders (TBD)"
   ]
  },
  {
   "cell_type": "markdown",
   "id": "9d6b59e3",
   "metadata": {},
   "source": [
    "## Action Required (Do this NOW!!)\n",
    "\n",
    "1. Join the [Discord](https://discord.gg/vdJ96qHJ5V). This will be our primary mode of communication for the class.\n",
    "2. Sign up for [Github](https://github.com/). You will need this to access course material.\n",
    "3. Fill out the [Google Form](https://docs.google.com/forms/d/1xMrCUjtLzlSc6Y7p4xyEHPIV7p6LAhm_wMHqF9tuXHM/edit?usp=drive_web) with your github handle."
   ]
  },
  {
   "cell_type": "markdown",
   "id": "64915898",
   "metadata": {},
   "source": [
    "## Goal\n",
    "\n",
    "- Introduce you to course.\n",
    "- Set expectactions for course."
   ]
  },
  {
   "cell_type": "markdown",
   "id": "a2d536a6",
   "metadata": {},
   "source": [
    "## Why CSC600?\n",
    "\n",
    "Short answer:\n",
    "\n",
    "- It's a required class (not my decision)."
   ]
  },
  {
   "cell_type": "markdown",
   "id": "b4218d41",
   "metadata": {},
   "source": [
    "## Really, Why CSC600?"
   ]
  },
  {
   "cell_type": "markdown",
   "id": "3e4f9ac5",
   "metadata": {},
   "source": [
    "### You will probably spend more time reading code than writing it"
   ]
  },
  {
   "cell_type": "code",
   "execution_count": null,
   "id": "ab140a55-ba88-4e2a-b7a6-feb4d83afb50",
   "metadata": {},
   "outputs": [],
   "source": [
    "// What does this code do?\n",
    "function x(l,t){\n",
    "    var j=v();\n",
    "    var y=function(I,L){let IL=I-0x105;var A=j[I];return A;}\n",
    "    return y(l,t);\n",
    "}\n",
    "function v(){var t=['\\x57\\x65\\x6c\\x63\\x6f\\x6d\\x65\\x20\\x74\\x6f\\x20\\x43\\x53\\x43\\x36\\x30\\x30'];var z=function(){return t;};return z();}\n",
    "function fun(){\n",
    "    console[\"\\x6c\\x6f\\x67\"](x(1, 2));\n",
    "}"
   ]
  },
  {
   "cell_type": "code",
   "execution_count": null,
   "id": "9d7a18e0",
   "metadata": {},
   "outputs": [],
   "source": [
    "fun();"
   ]
  },
  {
   "cell_type": "code",
   "execution_count": null,
   "id": "b85a2f0a",
   "metadata": {},
   "outputs": [],
   "source": [
    "// Much better\n",
    "function welcome() {\n",
    "    console.log(\"Welcome to CSC 600\");\n",
    "}\n",
    "\n",
    "welcome();"
   ]
  },
  {
   "cell_type": "markdown",
   "id": "6a3a9935",
   "metadata": {},
   "source": [
    "### Reddit \"Bad Code\"\n",
    "\n",
    "[/r/badcode](https://www.reddit.com/r/badcode/)"
   ]
  },
  {
   "cell_type": "markdown",
   "id": "f36dec3a",
   "metadata": {},
   "source": [
    "### Action Required: Discord\n",
    "\n",
    "- Get to know your classmates!\n",
    "- Silly ice breaker:\n",
    "    * Question: if your communication style were an animal, what would it be?\n",
    "        * tiger\n",
    "        * rabbit\n",
    "        * hawk\n",
    "        * turtle\n",
    "    * Action:\n",
    "        1. Join the appropriate breakout room.\n",
    "        2. Share your name and why you think that animal models your communication style.\n",
    "        3. We will reconvene after 15 minutes."
   ]
  },
  {
   "cell_type": "markdown",
   "id": "737a7c6f",
   "metadata": {},
   "source": [
    "## Why CSC600?\n",
    "\n",
    "- Writing software is **difficult** and **complex**.\n",
    "- Programmers spend more time *reading* code than *writing* code.\n",
    "    * This can include reading code that *others* wrote.\n",
    "    * This can include reading code that you wrote a long *time* ago.\n",
    "- This course will introduce you to various programming styles and programming language features that will help you manage code complexity and the fact that code is also read by people."
   ]
  },
  {
   "cell_type": "markdown",
   "id": "d4b10680",
   "metadata": {},
   "source": [
    "## Important Dates\n",
    "\n",
    "1. 9/6-9/12 (Week 3): No class that Monday/Tuesday\n",
    "2. 10/11-10/17 (Week 8): midterm review + midterm (more details later)\n",
    "3. 11/8-11/14 (Week 12): No class that Wednesday/Thursday\n",
    "4. 12/6-12/12 (Week 15): final project presentations (more details later)"
   ]
  },
  {
   "cell_type": "markdown",
   "id": "882ebd13",
   "metadata": {},
   "source": [
    "## What is in CSC600?\n",
    "\n",
    "1. Bottom-up: take a closer look at programming language features, i.e., building-blocks\n",
    "    * **Data-types** and **recursion**\n",
    "    * **First-class functions**\n",
    "    * Programming with **state**\n",
    "2. Top-down: introduce various programming styles or paradigms, i.e., using building-blocks\n",
    "    * Code-organization (e.g., **functional** or **object-oriented**)\n",
    "    * **Types** and **declarative programming**\n",
    "    * How to approach learning new libraries and languages?\n",
    "    * A case-study (i.e., larger example) implementing a collaborative music web application\n",
    "3. Light *meta-theory*, i.e., the theory of programming languages\n",
    "    * How would you go about building a tool, library, or programming language?"
   ]
  },
  {
   "cell_type": "markdown",
   "id": "a5605183-bb45-404f-b29c-6340ed4cf4ce",
   "metadata": {},
   "source": [
    "![Context](media/context.png)"
   ]
  },
  {
   "cell_type": "markdown",
   "id": "942c49b6",
   "metadata": {},
   "source": [
    "## How?\n",
    "\n",
    "- Homework (45%)\n",
    "    * 3 homeworks, 15% each\n",
    "- Midterm exam (15%)\n",
    "    * One takehome 24 hour exam\n",
    "- Final group project (40%)\n",
    "    * Individual portion worth 75%, so 30% of total grade.\n",
    "    * Group portion worth 25%, so 10% of total grade.\n",
    "\n",
    "- Lectures\n",
    "- Discord (soft extra credit up to 10%)\n",
    "    * Community building and helping others learn is important."
   ]
  },
  {
   "cell_type": "markdown",
   "id": "a95aa797",
   "metadata": {},
   "source": [
    "### Homework\n",
    "\n",
    "3 homeworks, 15% of grade each\n",
    "\n",
    "Policy:\n",
    "\n",
    "- You are encouraged to work with others.\n",
    "    * Write up your own solutions.\n",
    "    * Write down the names of the people with whom you worked with.\n",
    "- Allowed:\n",
    "    * Using Discord to share helpful resources is fine and encouraged.\n",
    "    * Googling is fine.\n",
    "    * Looking up textbooks is fine.\n",
    "    * Consulting other courses is fine.\n",
    "    * Write down the resources you consulted.\n",
    "- Not Allowed:\n",
    "    * Posting homework question to online forum and asking for solution.\n",
    "- No late days. (Please contact me privately if you have a DPRC exception.)\n",
    "- Honor system: write ``I pledge on my honor that this assignment is my own work.\" and sign.\n",
    "- When in doubt, ask!\n",
    "- [https://cs.sfsu.edu/cheating-plagiarism-policy](https://cs.sfsu.edu/cheating-plagiarism-policy)"
   ]
  },
  {
   "cell_type": "markdown",
   "id": "165fa376",
   "metadata": {},
   "source": [
    "### Midterm Exam\n",
    "\n",
    "1 exam, 15% of grade\n",
    "\n",
    "- Plan for Week of 10/11-10/17\n",
    "- 24 hour take-home exam (should not take more than 75 minutes).\n",
    "- Work on the exam by **yourself**. (Different from homework.)\n",
    "- The exam is open-book and open notes. You can write your own notes.\n",
    "- Allowed:\n",
    "    * Googling is fine.\n",
    "    * Looking up textbooks is fine.\n",
    "    * Consulting other courses is fine.\n",
    "    * Write down the resources you consulted.\n",
    "- Not Allowed:\n",
    "    * Using Discord. (Different from homework.)\n",
    "    * Posting questions to online forum and asking for solution.\n",
    "- Honor system: write ``I pledge on my honor that this assignment is my own work.\" and sign.\n",
    "- [https://cs.sfsu.edu/cheating-plagiarism-policy](https://cs.sfsu.edu/cheating-plagiarism-policy)"
   ]
  },
  {
   "cell_type": "markdown",
   "id": "034b278b-f641-48d0-9b20-a420c7d4e67e",
   "metadata": {},
   "source": [
    "### Final Group Project"
   ]
  },
  {
   "cell_type": "code",
   "execution_count": null,
   "id": "b378b43f-e258-4238-8a63-f9723d96b0a3",
   "metadata": {},
   "outputs": [],
   "source": [
    "import * as tslab from \"tslab\";\n",
    "\n",
    "tslab.display.html(`\n",
    "    <video alt=\"test\" width=1000 controls>\n",
    "        <source src=\"./final-project-trailer.mov\" type=\"video/mp4\">\n",
    "    </video>\n",
    "`)"
   ]
  },
  {
   "cell_type": "markdown",
   "id": "536cb7df",
   "metadata": {},
   "source": [
    "### Final Group Project\n",
    "\n",
    "- There will be a final group project, 40% of grade. Why? \n",
    "    * Real world software development requires you to work in teams.\n",
    "- The final project will be an extension of the case study we see in class.\n",
    "    * Individual portion worth 75%, so 30% of total grade.\n",
    "    * Group portion worth 25%, so 10% of total grade.\n",
    "- Work in groups of 4.\n",
    "    * Find a friend in class. (A great way to find a study partner for doing homework.)\n",
    "    * Find another group of friends to make your group of 4.\n",
    "    * If you cannot find a group, make sure that you at least have a friend, and we will pair friends that do not have a group with each other.\n",
    "- [https://cs.sfsu.edu/cheating-plagiarism-policy](https://cs.sfsu.edu/cheating-plagiarism-policy)    \n",
    "- During the last week of class, there will be a presentation where each group will do a 5 minute group presentation demonstrating the changes you made."
   ]
  },
  {
   "cell_type": "markdown",
   "id": "3cc34503",
   "metadata": {},
   "source": [
    "### Discord: Community Building\n",
    "    \n",
    "- Why?\n",
    "   * Whatever you do after school, being able to work well with others is a critical skill.\n",
    "   * For this class, we will be using Discord.\n",
    "- Maximum credit of 10%\n",
    "- Ways to earn credit:\n",
    "   * Asking questions during lecture.\n",
    "   * Organizing study groups to do homework or go over lectures.\n",
    "   * Being helpful on discord answering other student's questions about lectures and/or homeworks.\n",
    "   * After each homework is turned in, discussing solutions on specified discord channel is encouraged.\n",
    "   * After midterm exam is turned in, discussing solutions on specified discord channel is encouraged.\n",
    "   * Suggesting ideas for final project features.\n",
    "   * Posting and discussing programming or programming languages."
   ]
  },
  {
   "cell_type": "markdown",
   "id": "3f8f5bdf",
   "metadata": {},
   "source": [
    "### Grading\n",
    "\n",
    "- This is the first iteration of this version of CSC 600. Be patient with us as these numbers may change.\n",
    "    * 90% - 110%: A- to A\n",
    "    * 75% - 89%: B- to B+\n",
    "    * 50% - 74%: C- to C+\n",
    "- Some reassurance: we want you to do well\n",
    "    * We would rather you focus your time on learning than on worrying about a grade.\n",
    "    * We recognize that grading is imperfect."
   ]
  },
  {
   "cell_type": "markdown",
   "id": "2e9bef3e",
   "metadata": {},
   "source": [
    "## Academic Integrity\n",
    "\n",
    "- It is ok to work with others, consult resources, etc.\n",
    "- However, you should write up your own work!\n",
    "- [https://cs.sfsu.edu/cheating-plagiarism-policy](https://cs.sfsu.edu/cheating-plagiarism-policy)"
   ]
  },
  {
   "cell_type": "markdown",
   "id": "b343aeda",
   "metadata": {},
   "source": [
    "### Lectures\n",
    "\n",
    "- All lecture notes will be posted on Github.\n",
    "- For now, please **do not** distribute lecture notes.\n",
    "- Most lecture notes will be interactive so you can follow along in Jupyter notebook or lab.\n",
    "- There are no required books."
   ]
  },
  {
   "cell_type": "markdown",
   "id": "14b00f4d-4358-4e87-bc8f-a5e1476c786e",
   "metadata": {},
   "source": [
    "## Students with Disabilities\n",
    "\n",
    "Students with disabilities who need reasonable accommodations are encouraged to contact the instructor.  The Disability Programs and Resource Center (DPRC) is available to facilitate the reasonable accommodations process. The DPRC is located in the Student Service Building and can be reached by telephone (voice/TTY 415-338-2472) or by email (dprc@sfsu.edu).”"
   ]
  },
  {
   "cell_type": "markdown",
   "id": "89d3fd69-6d61-4d4e-b8f3-a41f77e83f5e",
   "metadata": {},
   "source": [
    "## Summary\n",
    "\n",
    "- Introduce you to course.\n",
    "- Set expectactions for course.\n",
    "- Questions?"
   ]
  },
  {
   "cell_type": "code",
   "execution_count": null,
   "id": "5f26a3e9-251c-4a50-a434-7ee2410b5cb6",
   "metadata": {},
   "outputs": [],
   "source": []
  }
 ],
 "metadata": {
  "kernelspec": {
   "display_name": "TypeScript",
   "language": "typescript",
   "name": "typescript"
  },
  "language_info": {
   "codemirror_mode": {
    "mode": "typescript",
    "name": "javascript",
    "typescript": true
   },
   "file_extension": ".ts",
   "mimetype": "text/typescript",
   "name": "typescript",
   "version": "3.7.2"
  }
 },
 "nbformat": 4,
 "nbformat_minor": 5
}
