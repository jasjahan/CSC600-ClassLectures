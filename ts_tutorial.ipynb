{
 "cells": [
  {
   "cell_type": "markdown",
   "id": "281078c6",
   "metadata": {},
   "source": [
    "# Basic TypeScript"
   ]
  },
  {
   "cell_type": "code",
   "execution_count": null,
   "id": "51005646",
   "metadata": {},
   "outputs": [],
   "source": [
    "import { requireCarbon} from \"./lib/draw\";\n",
    "\n",
    "// Change the styling of our page\n",
    "requireCarbon();"
   ]
  },
  {
   "cell_type": "markdown",
   "id": "f718ae33",
   "metadata": {},
   "source": [
    "## Logistics\n",
    "\n",
    "1. By popular demand, we will be recording lectures. For **internal use only**.\n",
    "2. Final group presentations **do not** count towards presentaton.\n",
    "3. Email from AT about VMs: the VM contains jupyter notebook with typescript installed. I still recommend trying things out locally.\n",
    "4. Any other questions?"
   ]
  },
  {
   "cell_type": "markdown",
   "id": "1b9ccbae",
   "metadata": {},
   "source": [
    "## Where Were We?\n",
    "\n",
    "Starting journey into Programming + Programming Languages!\n",
    "\n",
    "1. Bottom-up, i.e., building blocks of languages.\n",
    "2. Top-down, i.e., using building blocks.\n",
    "3. **Meta-theory.** (TODAY)\n",
    "    * Yes, learning a new language requires \"meta-theory\".\n",
    "    * No proofs."
   ]
  },
  {
   "cell_type": "markdown",
   "id": "65a8387f",
   "metadata": {},
   "source": [
    "## Goal\n",
    "\n",
    "1. Get comfortable writing TypeScript.\n",
    "2. Get a feel for one approach on learning a new programming language."
   ]
  },
  {
   "cell_type": "markdown",
   "id": "7bc090cf",
   "metadata": {},
   "source": [
    "## Outline\n",
    "\n",
    "- Why TypeScript?\n",
    "- TypeScript tutorial\n",
    "- BNF: Backus–Naur Form"
   ]
  },
  {
   "cell_type": "markdown",
   "id": "361097ae",
   "metadata": {},
   "source": [
    "## Why TypeScript?\n",
    "\n",
    "Before I answer that, here is a question for you: why learn a foreign language?"
   ]
  },
  {
   "cell_type": "markdown",
   "id": "0ea3c027",
   "metadata": {},
   "source": [
    "### Why learn a foreign language?\n",
    "\n",
    "```\n",
    "\n",
    "\n",
    "\n",
    "\n",
    "\n",
    "Blue ocean question, blue ocean answers ...\n",
    "\n",
    "Please respond in chat: foreign language you would like to learn? Examples\n",
    "1. Arabic\n",
    "2. Hindi\n",
    "3. Mandarin\n",
    "4. Spanish\n",
    "5. ...\n",
    "\n",
    "\n",
    "\n",
    "\n",
    "\n",
    "\n",
    "\n",
    "```"
   ]
  },
  {
   "cell_type": "markdown",
   "id": "8b135506",
   "metadata": {},
   "source": [
    "### Why learn another programming language?\n",
    "\n",
    "Programming languages are similar to \"natural\" languages in that they are used by people in a specific time and context.\n",
    "\n",
    "Opinion: one of the best talks ever on language design\n",
    "\n",
    "* How to Grow a Language by Guy Steele: [https://www.youtube.com/watch?v=_ahvzDzKdB0](https://www.youtube.com/watch?v=_ahvzDzKdB0)\n",
    "\n",
    "Why learn another programming language?\n",
    "\n",
    "1. Programming languages evolve through time.\n",
    "    * COBOL?\n",
    "    * Scheme?\n",
    "    * Java?\n",
    "    * Python?\n",
    "    * TypeScript?\n",
    "2. Technologies evolve through time.\n",
    "    * Programming for mainframe vs. embedded system vs. desktop application vs. web vs. mobile.\n",
    "3. Each language has tradeoffs. Knowing multiple languages can make you into a better programmer because you'll better understand the tradeoffs one has to make in each language.\n",
    "4. Pragmatic reason: At a programming job, you usually won't get to pick the language you write in."
   ]
  },
  {
   "cell_type": "markdown",
   "id": "a4c91d93",
   "metadata": {},
   "source": [
    "## Why TypeScript?\n",
    "\n",
    "Ok fine, you have convinced me to learn another programming language. Why TypeScript specifically?\n",
    "\n",
    "[https://www.typescriptlang.org/](https://www.typescriptlang.org/)"
   ]
  },
  {
   "cell_type": "markdown",
   "id": "86bfe854",
   "metadata": {},
   "source": [
    "### Reason 1: TypeScript is a superset of JavaScript"
   ]
  },
  {
   "cell_type": "code",
   "execution_count": null,
   "id": "5c755eda",
   "metadata": {},
   "outputs": [],
   "source": [
    "// Jupyter extension for TypeScript\n",
    "// link: https://github.com/yunabe/tslab\n",
    "import * as tslab from \"tslab\"; \n",
    "\n",
    "// Vanilla JavaScript + Html\n",
    "tslab.display.html(`\n",
    "<h1 id=\"id1\">Hello World</h1>\n",
    "\n",
    "<button type=\"button\"\n",
    "onclick=\"document.getElementById('id1').style.color = 'red'\">\n",
    "Click Me!</button>\n",
    "`)"
   ]
  },
  {
   "cell_type": "markdown",
   "id": "4da0e925",
   "metadata": {},
   "source": [
    "### Reason 2: TypeScript is a serious language \n",
    "\n",
    "Developed and maintained by Microsoft:\n",
    "* [https://github.com/microsoft/TypeScript](https://github.com/microsoft/TypeScript)"
   ]
  },
  {
   "cell_type": "markdown",
   "id": "07e1db62",
   "metadata": {},
   "source": [
    "### Reason 3: Huge ecosystem\n",
    "\n",
    "Node package manager\n",
    "* [https://www.npmjs.com/](https://www.npmjs.com/)"
   ]
  },
  {
   "cell_type": "markdown",
   "id": "5ec96fb9",
   "metadata": {},
   "source": [
    "### Summary: Why TypeScript?\n",
    "\n",
    "1. TypeScript is a superset of JavaScript. JavaScript is ... used everywhere on the web.\n",
    "2. TypeScript is a serious language.\n",
    "3. TypeScript has a huge ecosystem."
   ]
  },
  {
   "cell_type": "markdown",
   "id": "f946dfd9",
   "metadata": {},
   "source": [
    "### Drawbacks of using TypeScript\n",
    "\n",
    "- TypeScript is a huge language.\n",
    "    * We will only use a subset of TypeScript.\n",
    "- Similar to how natural langauges have messy parts, TypeScript has behavior that is inherited from JavaScript, and JavaScript can sometimes be a mess.\n",
    "    * We will try our best to avoid the messy parts of TypeScript and JavaScript.\n",
    "    * The purpose of this class is **not** to learn all the details of TypeScript."
   ]
  },
  {
   "cell_type": "markdown",
   "id": "3a423e67",
   "metadata": {},
   "source": [
    "## Maybe I've Convinced You?\n",
    "    \n",
    "- Ok professor. I will learn TypeScript.\n",
    "- But, it took me forever to learn \"insert-your-favorite-language-here\""
   ]
  },
  {
   "cell_type": "markdown",
   "id": "d0a44e70",
   "metadata": {},
   "source": [
    "## What's a \"Good Way\" to Approach Learning a New Language?\n",
    "\n",
    "Everyone learns differently, but one thing you can do if you know another programming language is in comparison with a language you already know. We'll be using Java as comparison.\n",
    "\n",
    "Some buzzwords that usually describe trade-offs that a language designer has made:\n",
    "- **Compiled** vs. **interpreted**?\n",
    "- **Static** vs. **dynamic types**?\n",
    "- **Lexical** vs. **dynamic scope**?\n",
    "- **Object-oriented** or **functional**?\n",
    "- **threading** model?\n",
    "- **garbage-collected**?\n",
    "\n",
    "Here is a template to try to sort through the myriad of trade-offs. Every (general-purpose) language will have a way to\n",
    "1. **Input/Output** with the outside world\n",
    "2. Define **data**\n",
    "3. Define **code** (i.e., functions, methods, operations) on data structures"
   ]
  },
  {
   "cell_type": "markdown",
   "id": "4761599f",
   "metadata": {},
   "source": [
    "## TypeScript\n",
    "\n",
    "Let's try to follow the template for TypeScript:\n",
    "\n",
    "1. **Input/Output** with the outside world\n",
    "2. Define **data**\n",
    "3. Define **code** (i.e., functions, methods, operations) on data structures"
   ]
  },
  {
   "cell_type": "markdown",
   "id": "b8fdf471",
   "metadata": {},
   "source": [
    "### 1. Input/Output with the Outside World"
   ]
  },
  {
   "cell_type": "markdown",
   "id": "33c10733",
   "metadata": {},
   "source": [
    "#### Obligatory Hello World"
   ]
  },
  {
   "cell_type": "markdown",
   "id": "c77dc44e",
   "metadata": {},
   "source": [
    "Here it is in Java.\n",
    "\n",
    "```\n",
    "System.out.println(\"Hello World\");\n",
    "```"
   ]
  },
  {
   "cell_type": "code",
   "execution_count": null,
   "id": "23a1aec9",
   "metadata": {},
   "outputs": [],
   "source": [
    "// Here is is in TypeScript\n",
    "console.log(\"Hello World\");"
   ]
  },
  {
   "cell_type": "code",
   "execution_count": null,
   "id": "97085e36",
   "metadata": {},
   "outputs": [],
   "source": [
    "// Similar to Java's system?\n",
    "console"
   ]
  },
  {
   "cell_type": "markdown",
   "id": "0b712b37",
   "metadata": {},
   "source": [
    "#### Reading from file (Input)\n",
    "\n",
    "- Interacting with the outside world, such as reading from a file is not as straightforward ...\n",
    "- We may have **errors** (e.g., the file does not exist).\n",
    "- We have the usual `try` and `catch` mechanisms to deal with this.\n",
    "- Looking at how to do file input/output in a language is a good way to learn about how a language copes with handling "
   ]
  },
  {
   "cell_type": "code",
   "execution_count": null,
   "id": "914f615e-245b-42f9-9d4f-0db28c372565",
   "metadata": {},
   "outputs": [],
   "source": [
    "// Node.js's \"filesystem\"\n",
    "import * as fs from \"fs\";"
   ]
  },
  {
   "cell_type": "code",
   "execution_count": null,
   "id": "e3d55469",
   "metadata": {},
   "outputs": [],
   "source": [
    "// const data = fs.readFileSync('./lib/phantom_file.txt', 'utf8'); // phantom_file.txt does not exist\n",
    "// console.log(data);"
   ]
  },
  {
   "cell_type": "code",
   "execution_count": null,
   "id": "19514af8",
   "metadata": {},
   "outputs": [],
   "source": [
    "// Java has try/catch as well\n",
    "try {\n",
    "    const data = fs.readFileSync('./lib/phantom_file.txt', 'utf8')\n",
    "    console.log(data);\n",
    "} catch (err) {\n",
    "    tslab.display.html(`<p> ${err}</p>`);\n",
    "}"
   ]
  },
  {
   "cell_type": "code",
   "execution_count": null,
   "id": "709c506c",
   "metadata": {},
   "outputs": [],
   "source": [
    "// This one works\n",
    "fs.writeFileSync('hello_world.txt', 'Hello World!');\n",
    "try {\n",
    "  const data = fs.readFileSync('hello_world.txt', 'utf8')\n",
    "  console.log(data);\n",
    "} catch (err) {\n",
    "  console.log(\"There appears to be an error ...\", err);\n",
    "}"
   ]
  },
  {
   "cell_type": "markdown",
   "id": "3005a6d2",
   "metadata": {},
   "source": [
    "### 2. Definining \"Data\" in TypeScript\n",
    "\n",
    "- We just saw Input/Output (**IO**).\n",
    "- Now we'll look at data."
   ]
  },
  {
   "cell_type": "markdown",
   "id": "b188f6bd",
   "metadata": {},
   "source": [
    "#### Numbers"
   ]
  },
  {
   "cell_type": "code",
   "execution_count": null,
   "id": "82849f11",
   "metadata": {},
   "outputs": [],
   "source": [
    "42"
   ]
  },
  {
   "cell_type": "code",
   "execution_count": null,
   "id": "4f7c3623",
   "metadata": {},
   "outputs": [],
   "source": [
    "42 + 1"
   ]
  },
  {
   "cell_type": "code",
   "execution_count": null,
   "id": "ca0f9b1f",
   "metadata": {},
   "outputs": [],
   "source": [
    "2 * 3"
   ]
  },
  {
   "cell_type": "code",
   "execution_count": null,
   "id": "7637369a",
   "metadata": {},
   "outputs": [],
   "source": [
    "2 * 3 - 4 // Question: (2 * 3) - 4 or 2 * (3 - 4)"
   ]
  },
  {
   "cell_type": "code",
   "execution_count": null,
   "id": "b5ff9017",
   "metadata": {},
   "outputs": [],
   "source": [
    "2 * (3 - 4)"
   ]
  },
  {
   "cell_type": "code",
   "execution_count": null,
   "id": "ea8f4cf1",
   "metadata": {},
   "outputs": [],
   "source": [
    "1 / 3 // Question: What would this print in Java?"
   ]
  },
  {
   "cell_type": "code",
   "execution_count": null,
   "id": "f2703d4a",
   "metadata": {},
   "outputs": [],
   "source": [
    "parseInt('1') / parseInt('2')"
   ]
  },
  {
   "cell_type": "code",
   "execution_count": null,
   "id": "f48db0f3",
   "metadata": {},
   "outputs": [],
   "source": [
    "console.log(Math.trunc(1/3));\n",
    "console.log(1 % 3);"
   ]
  },
  {
   "cell_type": "markdown",
   "id": "90f9f634",
   "metadata": {},
   "source": [
    "#### Strings"
   ]
  },
  {
   "cell_type": "code",
   "execution_count": null,
   "id": "11b997e0",
   "metadata": {},
   "outputs": [],
   "source": [
    "\"hello\" // string value, value means that there is no computation to be done"
   ]
  },
  {
   "cell_type": "code",
   "execution_count": null,
   "id": "4aad4c19",
   "metadata": {},
   "outputs": [],
   "source": [
    "'world' // Question: Would this work in Java?"
   ]
  },
  {
   "cell_type": "code",
   "execution_count": null,
   "id": "8d0a456b",
   "metadata": {},
   "outputs": [],
   "source": [
    "\"hello\" + ' world' // string expression, expression means some computation to be done"
   ]
  },
  {
   "cell_type": "code",
   "execution_count": null,
   "id": "8eea1b8c",
   "metadata": {},
   "outputs": [],
   "source": [
    "1 + \"hello\" + 1 + 2 + 3 // Question: Would this work in Java?"
   ]
  },
  {
   "cell_type": "code",
   "execution_count": null,
   "id": "41ba0456",
   "metadata": {},
   "outputs": [],
   "source": [
    "'world' + 1"
   ]
  },
  {
   "cell_type": "markdown",
   "id": "0b6a2f88",
   "metadata": {},
   "source": [
    "#### Booleans"
   ]
  },
  {
   "cell_type": "code",
   "execution_count": null,
   "id": "13a20101",
   "metadata": {},
   "outputs": [],
   "source": [
    "true // boolean value"
   ]
  },
  {
   "cell_type": "code",
   "execution_count": null,
   "id": "b4dff94e",
   "metadata": {},
   "outputs": [],
   "source": [
    "false // boolean value"
   ]
  },
  {
   "cell_type": "code",
   "execution_count": null,
   "id": "ced1293c",
   "metadata": {},
   "outputs": [],
   "source": [
    "// Truth table for logical and\n",
    "console.log(false && false);\n",
    "console.log(false && true);\n",
    "console.log(true && false);\n",
    "console.log(true && true);"
   ]
  },
  {
   "cell_type": "code",
   "execution_count": null,
   "id": "add24092",
   "metadata": {},
   "outputs": [],
   "source": [
    "// Truth table for logical or\n",
    "console.log(false || false);\n",
    "console.log(false || true);\n",
    "console.log(true || false);\n",
    "console.log(true || true);"
   ]
  },
  {
   "cell_type": "markdown",
   "id": "4666f192",
   "metadata": {},
   "source": [
    "### 3. Operating on \"Data\" in TypeScript\n",
    "\n",
    "We just saw 3 data types and primitive operations on data:\n",
    "\n",
    "1. Numbers\n",
    "2. Strings\n",
    "3. Booleans\n",
    "\n",
    "As we saw, there was a distinction between **values** and **expressions**:\n",
    "\n",
    "- **Values**: no computation\n",
    "- **Expression**: computation"
   ]
  },
  {
   "cell_type": "markdown",
   "id": "9ce86d39",
   "metadata": {},
   "source": [
    "#### Variables: Holding \"Data\""
   ]
  },
  {
   "cell_type": "code",
   "execution_count": null,
   "id": "2426e09b",
   "metadata": {},
   "outputs": [],
   "source": [
    "let y: string = \"y\"; // String y = \"y\"; in Java\n",
    "y;"
   ]
  },
  {
   "cell_type": "code",
   "execution_count": null,
   "id": "78ee054f",
   "metadata": {},
   "outputs": [],
   "source": [
    "y = \"z\";\n",
    "y;"
   ]
  },
  {
   "cell_type": "code",
   "execution_count": null,
   "id": "e65cec36",
   "metadata": {},
   "outputs": [],
   "source": [
    "let x = \"x\";  // We don't need the type\n",
    "x;"
   ]
  },
  {
   "cell_type": "code",
   "execution_count": null,
   "id": "6dbb7c57",
   "metadata": {},
   "outputs": [],
   "source": [
    "const c = \"c\"; // Constant's cannot be reassigned\n",
    "c = \"d\";  // Can't be done"
   ]
  },
  {
   "cell_type": "code",
   "execution_count": null,
   "id": "a862e435",
   "metadata": {},
   "outputs": [],
   "source": [
    "let y = \"e\" + \"f\";\n",
    "const c = \"c\" + \"d\"; // Variable can hold expressions, i.e., things that contain computation and will evaluate to values\n",
    "console.log(y, c);"
   ]
  },
  {
   "cell_type": "markdown",
   "id": "93076f0e",
   "metadata": {},
   "source": [
    "#### Conditionals: operating on booleans\n",
    "\n",
    "Data such as boolean can cause extra statements (or expressions) to be added to the programming language."
   ]
  },
  {
   "cell_type": "code",
   "execution_count": null,
   "id": "169d5751",
   "metadata": {},
   "outputs": [],
   "source": [
    "if (false) {\n",
    "    console.log(\"True\");\n",
    "} else {\n",
    "    console.log(\"False\");\n",
    "}"
   ]
  },
  {
   "cell_type": "code",
   "execution_count": null,
   "id": "67af01c4",
   "metadata": {},
   "outputs": [],
   "source": [
    "if (true) {\n",
    "    console.log(\"True\");\n",
    "} else {\n",
    "    console.log(\"False\");\n",
    "}"
   ]
  },
  {
   "cell_type": "code",
   "execution_count": null,
   "id": "d6cc0111",
   "metadata": {},
   "outputs": [],
   "source": [
    "console.log(1 < 2);\n",
    "if (1 < 2) {\n",
    "    console.log(\"True\");\n",
    "} else {\n",
    "    console.log(\"False\");\n",
    "}"
   ]
  },
  {
   "cell_type": "code",
   "execution_count": null,
   "id": "8c852740",
   "metadata": {},
   "outputs": [],
   "source": [
    "if (0) {\n",
    "    console.log(\"True\");\n",
    "} else {\n",
    "    console.log(\"False\");\n",
    "}"
   ]
  },
  {
   "cell_type": "markdown",
   "id": "9d224b98",
   "metadata": {},
   "source": [
    "### 2. Back to Data ...\n",
    "\n",
    "- We saw relatively simple data + operations on data. These are sometimes called **primitive** data.\n",
    "- How do we make **compound** data?"
   ]
  },
  {
   "cell_type": "markdown",
   "id": "4faeaf9a",
   "metadata": {},
   "source": [
    "#### Tuples (Products) of Data"
   ]
  },
  {
   "cell_type": "code",
   "execution_count": null,
   "id": "e0410d39",
   "metadata": {},
   "outputs": [],
   "source": [
    "const pair = [1, \"hello\"] // Question: how would we do this in Java?"
   ]
  },
  {
   "cell_type": "code",
   "execution_count": null,
   "id": "d0ba46a9",
   "metadata": {},
   "outputs": [],
   "source": [
    "pair[0]"
   ]
  },
  {
   "cell_type": "code",
   "execution_count": null,
   "id": "89adace5",
   "metadata": {},
   "outputs": [],
   "source": [
    "pair[1]"
   ]
  },
  {
   "cell_type": "code",
   "execution_count": null,
   "id": "83552441",
   "metadata": {},
   "outputs": [],
   "source": [
    "pair[0] = 2;\n",
    "pair"
   ]
  },
  {
   "cell_type": "code",
   "execution_count": null,
   "id": "26e723e8",
   "metadata": {},
   "outputs": [],
   "source": [
    "const tup = [1, \"hello\", 42 + 1] // Again, tuples can contain expressions"
   ]
  },
  {
   "cell_type": "code",
   "execution_count": null,
   "id": "af8cdc02",
   "metadata": {},
   "outputs": [],
   "source": [
    "tup[2] = 56;\n",
    "tup[1] = 3;\n",
    "tup"
   ]
  },
  {
   "cell_type": "markdown",
   "id": "bffbb398",
   "metadata": {},
   "source": [
    "#### Arrays of Data"
   ]
  },
  {
   "cell_type": "code",
   "execution_count": null,
   "id": "cc0c223c",
   "metadata": {},
   "outputs": [],
   "source": [
    "const arr: number[] = [1, 2, 3];\n",
    "arr"
   ]
  },
  {
   "cell_type": "code",
   "execution_count": null,
   "id": "f3883ac7",
   "metadata": {},
   "outputs": [],
   "source": [
    "// A bunch of functions on array\n",
    "console.log(arr.toString());\n",
    "console.log(arr.join(\" \"));\n",
    "console.log(arr.length);\n",
    "console.log(arr.concat(arr));"
   ]
  },
  {
   "cell_type": "markdown",
   "id": "baeafea3",
   "metadata": {},
   "source": [
    "#### Dictionaries: Associative Array\n",
    "\n",
    "- Many data-structures can be built with dictionaries.\n",
    "- Personal preference: I always look for how to use dictionaries in a new language."
   ]
  },
  {
   "cell_type": "code",
   "execution_count": null,
   "id": "8b0b484b",
   "metadata": {},
   "outputs": [],
   "source": [
    "const dict = { \"x\": 1, \"y\": 2 }; // Question: Does Java have a primitive dictionary?\n",
    "dict"
   ]
  },
  {
   "cell_type": "code",
   "execution_count": null,
   "id": "9276764b",
   "metadata": {},
   "outputs": [],
   "source": [
    "dict[\"x\"]"
   ]
  },
  {
   "cell_type": "code",
   "execution_count": null,
   "id": "09e3df61",
   "metadata": {},
   "outputs": [],
   "source": [
    "dict[\"x\"] = 3;\n",
    "dict"
   ]
  },
  {
   "cell_type": "code",
   "execution_count": null,
   "id": "d665d688",
   "metadata": {},
   "outputs": [],
   "source": [
    "for (const [key, value] of Object.entries(dict)) {\n",
    "    console.log(key, value);\n",
    "}"
   ]
  },
  {
   "cell_type": "markdown",
   "id": "5712397d",
   "metadata": {},
   "source": [
    "### 3. And now Back to Code ...\n",
    "\n",
    "Giving users the ability to add data now requires new kinds of \"code\""
   ]
  },
  {
   "cell_type": "markdown",
   "id": "ce51e8f7",
   "metadata": {},
   "source": [
    "#### Loops: Operating on Arrays"
   ]
  },
  {
   "cell_type": "code",
   "execution_count": null,
   "id": "88b80b13",
   "metadata": {},
   "outputs": [],
   "source": [
    "for (let i=0; i < arr.length; i++) {\n",
    "    console.log(arr[i]);\n",
    "}"
   ]
  },
  {
   "cell_type": "code",
   "execution_count": null,
   "id": "f5bee762",
   "metadata": {},
   "outputs": [],
   "source": [
    "// Keyword: comprehension\n",
    "for (let x of arr) { // Same as above, but maybe more readable?\n",
    "    console.log(x);\n",
    "}"
   ]
  },
  {
   "cell_type": "markdown",
   "id": "41e5c142",
   "metadata": {},
   "source": [
    "#### Other loops\n",
    "\n",
    "Sometimes languages will give you multiple ways to express the \"same idea\"."
   ]
  },
  {
   "cell_type": "code",
   "execution_count": null,
   "id": "4cdcf713",
   "metadata": {},
   "outputs": [],
   "source": [
    "let i = 0;\n",
    "while (i < arr.length) {\n",
    "    console.log(arr[i]);\n",
    "    i++;\n",
    "}"
   ]
  },
  {
   "cell_type": "markdown",
   "id": "f508a48a",
   "metadata": {},
   "source": [
    "#### Functions: Operating on Arbitrary Data\n",
    "\n",
    "Functions (and their variations) are the \"heart\" of programming. They let you define computation on \"arbitrary\" data."
   ]
  },
  {
   "cell_type": "code",
   "execution_count": null,
   "id": "08a1e4de",
   "metadata": {},
   "outputs": [],
   "source": [
    "function addOne(x: number): number {\n",
    "    return x + 1;\n",
    "}\n",
    "\n",
    "addOne(1)"
   ]
  },
  {
   "cell_type": "markdown",
   "id": "3a006db0",
   "metadata": {},
   "source": [
    "Compare with Java\n",
    "\n",
    "```\n",
    "static int addOne(int x) {\n",
    "    return x + 1;\n",
    "}\n",
    "```"
   ]
  },
  {
   "cell_type": "code",
   "execution_count": null,
   "id": "7e7defd8",
   "metadata": {},
   "outputs": [],
   "source": [
    "function add(x: number, y: number): number {\n",
    "    return x + y;\n",
    "}\n",
    "\n",
    "add(1, 2)"
   ]
  },
  {
   "cell_type": "code",
   "execution_count": null,
   "id": "8c5d8a24",
   "metadata": {},
   "outputs": [],
   "source": [
    "// Generic function\n",
    "// T stands for any data\n",
    "// Question: Can you think of another function with this signature?\n",
    "function identity<T>(x: T): T {\n",
    "    return x;\n",
    "}\n",
    "addOne(1)"
   ]
  },
  {
   "cell_type": "markdown",
   "id": "bd649d6a",
   "metadata": {},
   "source": [
    "#### Classes: Data + Code together"
   ]
  },
  {
   "cell_type": "code",
   "execution_count": null,
   "id": "5d005a14",
   "metadata": {},
   "outputs": [],
   "source": [
    "class Pair<S, T> {\n",
    "    readonly fst: S;  // First component of data\n",
    "    readonly snd: T;  // Second component of data\n",
    "    \n",
    "    constructor (fst: S, snd: T) {\n",
    "        this.fst = fst;\n",
    "        this.snd = snd;\n",
    "    }\n",
    "    \n",
    "    swap() {  // Swap the first and second components\n",
    "        return new Pair(this.snd, this.fst);\n",
    "    }\n",
    "}\n",
    "\n",
    "let pair = new Pair(1, 2);\n",
    "pair"
   ]
  },
  {
   "cell_type": "markdown",
   "id": "49ad2840",
   "metadata": {},
   "source": [
    "Compare with Java\n",
    "\n",
    "```\n",
    "class Pair<S, T> {\n",
    "\tpublic final S fst;\n",
    "\tpublic final T snd;\n",
    "\n",
    "\tpublic Pair(S fst, T snd) {\n",
    "\t\tthis.fst = fst;\n",
    "\t\tthis.snd = snd;\n",
    "\t}\n",
    "\n",
    "\tpublic Pair<T, S> swap() {\n",
    "\t\treturn new Pair(this.snd, this.fst);\n",
    "\t}\n",
    "}\n",
    "```"
   ]
  },
  {
   "cell_type": "code",
   "execution_count": null,
   "id": "06d6de02",
   "metadata": {},
   "outputs": [],
   "source": [
    "pair.fst"
   ]
  },
  {
   "cell_type": "code",
   "execution_count": null,
   "id": "033789c2",
   "metadata": {},
   "outputs": [],
   "source": [
    "pair.snd"
   ]
  },
  {
   "cell_type": "code",
   "execution_count": null,
   "id": "d904b44c",
   "metadata": {},
   "outputs": [],
   "source": [
    "pair.swap()"
   ]
  },
  {
   "cell_type": "code",
   "execution_count": null,
   "id": "80940617",
   "metadata": {},
   "outputs": [],
   "source": [
    "class MutablePair {\n",
    "    fst: any;\n",
    "    snd: any;\n",
    "    \n",
    "    constructor (fst, snd) {\n",
    "        this.fst = fst;\n",
    "        this.snd = snd;\n",
    "    }\n",
    "    \n",
    "    swap() {\n",
    "        const tmp = this.fst;\n",
    "        this.fst = this.snd;\n",
    "        this.snd = tmp;\n",
    "        this.snd = tmp;\n",
    "    }\n",
    "}\n",
    "\n",
    "let pair = new Pair(1, 2);\n",
    "pair.swap();\n",
    "pair"
   ]
  },
  {
   "cell_type": "markdown",
   "id": "4fb87437",
   "metadata": {},
   "source": [
    "## Resources\n",
    "\n",
    "- Node: [https://nodejs.org/en/](https://nodejs.org/en/)\n",
    "- JavaScript: [https://developer.mozilla.org/en-US/docs/Web/JavaScript](https://developer.mozilla.org/en-US/docs/Web/JavaScript)\n",
    "- TypeScript: [https://www.typescriptlang.org/](https://www.typescriptlang.org/)"
   ]
  },
  {
   "cell_type": "markdown",
   "id": "0a5951dc",
   "metadata": {},
   "source": [
    "## Backus–Naur Form (BNF)\n",
    "\n",
    "- So we saw some TypeScript and a little bit of the corresponding Java.\n",
    "- There were **syntax** differences but somehow the meaning (i.e., the **semantics**) of the syntax were the same.\n",
    "- BNF is a notation for communicating syntax."
   ]
  },
  {
   "cell_type": "markdown",
   "id": "affe43f8",
   "metadata": {},
   "source": [
    "**Example TypeScript**\n",
    "```\n",
    "function addOne(x: number): number {\n",
    "    return x + 1;\n",
    "}\n",
    "```\n",
    "\n",
    "**BNF**\n",
    "\\begin{align*}\n",
    "\\text{id} & ::= ... \\\\\n",
    "\\text{type} & ::= \\texttt{number} \\,\\,|\\,\\, \\texttt{string} \\,\\,|\\,\\, ... \\\\\n",
    "\\text{param} & ::=  \\text{<id>} \\texttt{:} \\text{<type>} \\\\\n",
    "\\text{fun} & ::= \\texttt{function} \\text{<id>} \\texttt{(} [\\text{<param>}] \\texttt{)} \\texttt{:} \\text{<type>} \\texttt{\\{} ... \\texttt{\\}}\n",
    "\\end{align*}\n",
    "   \n",
    "**Key**\n",
    "- $|$ means separate case\n",
    "- $<>$ means substitute for whatever is inside the angle brackets\n",
    "- $[]$ means comma-separated list\n",
    "- $\\texttt{typewriter font}$ means keyword"
   ]
  },
  {
   "cell_type": "markdown",
   "id": "f80b5e9f",
   "metadata": {},
   "source": [
    "**Example Java**\n",
    "```\n",
    "static int addOne(int x) {\n",
    "  \treturn x + 1;\n",
    "  }\n",
    "```\n",
    "\n",
    "**BNF**\n",
    "\\begin{align*}\n",
    "\\text{id} & ::= ... \\\\\n",
    "\\text{type} & ::= \\texttt{int} \\,\\,|\\,\\, \\texttt{String} \\,\\,|\\,\\, ... \\\\\n",
    "\\text{param} & ::=  \\text{<type>} \\,\\, \\text{<id>} \\\\\n",
    "\\text{fun} & ::= \\texttt{static} \\text{<type>} \\text{<id>} \\texttt{(} [\\text{<param>}] \\texttt{)} \\texttt{\\{} ... \\texttt{\\}}\n",
    "\\end{align*}"
   ]
  },
  {
   "cell_type": "markdown",
   "id": "20a0126c",
   "metadata": {},
   "source": [
    "### Story for Today?\n",
    "\n",
    "1. Why learn a new language / TypeScript?\n",
    "2. Some TypeScript + comparison with Java\n",
    "    * How to do IO?\n",
    "    * Data?\n",
    "    * Code?\n",
    "3. BNF\n",
    "    * How to compare syntax of different languages?"
   ]
  },
  {
   "cell_type": "code",
   "execution_count": null,
   "id": "72a5ebaf",
   "metadata": {},
   "outputs": [],
   "source": []
  }
 ],
 "metadata": {
  "kernelspec": {
   "display_name": "TypeScript",
   "language": "typescript",
   "name": "typescript"
  },
  "language_info": {
   "codemirror_mode": {
    "mode": "typescript",
    "name": "javascript",
    "typescript": true
   },
   "file_extension": ".ts",
   "mimetype": "text/typescript",
   "name": "typescript",
   "version": "3.7.2"
  }
 },
 "nbformat": 4,
 "nbformat_minor": 5
}
