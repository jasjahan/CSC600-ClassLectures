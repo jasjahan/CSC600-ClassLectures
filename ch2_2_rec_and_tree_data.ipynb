{
 "cells": [
  {
   "cell_type": "markdown",
   "id": "78695b1a",
   "metadata": {},
   "source": [
    "# 2.2. Recursion and Tree Data-Types"
   ]
  },
  {
   "cell_type": "code",
   "execution_count": 1,
   "id": "d494902c",
   "metadata": {},
   "outputs": [
    {
     "data": {
      "text/html": [
       "\n",
       "  <link rel=\"stylesheet\" href=\"node_modules/carbon-components/css/carbon-components.css\">\n",
       "  "
      ]
     },
     "metadata": {},
     "output_type": "display_data"
    },
    {
     "data": {
      "text/html": [
       "\n",
       "<script>\n",
       "require.config({\n",
       "     paths: {\n",
       "     cytoscape: 'https://cdnjs.cloudflare.com/ajax/libs/cytoscape/3.19.0/cytoscape.min'\n",
       "}});\n",
       "</script>\n",
       "  "
      ]
     },
     "metadata": {},
     "output_type": "display_data"
    }
   ],
   "source": [
    "// TypeScript Jupyter extension\n",
    "import * as tslab from \"tslab\";\n",
    "\n",
    "// CSC 600 Libraries\n",
    "import { drawList, drawTree, drawCallStack, requireCytoscape, requireCarbon} from \"./lib/draw\";\n",
    "import * as introspect from \"./lib/introspect\";\n",
    "import * as list from \"./lib/list\";\n",
    "\n",
    "requireCarbon();\n",
    "requireCytoscape();"
   ]
  },
  {
   "cell_type": "markdown",
   "id": "f0df1613",
   "metadata": {},
   "source": [
    "## Where Were We?\n",
    "\n",
    "Concept Roadmap:\n",
    "\n",
    "1. **Bottom-up, i.e., building blocks of languages.** (TODAY and next 3 weeks)\n",
    "    - **Data-Types + Recursion** (this week)\n",
    "    - First-Class Functions or References + State\n",
    "2. Top-down, i.e., using building blocks.\n",
    "3. *Meta-theory.*"
   ]
  },
  {
   "cell_type": "markdown",
   "id": "5927e853",
   "metadata": {},
   "source": [
    "## Goal\n",
    "\n",
    "1. Continue study of **(algebraic) data-types** (**ADT**) using **trees**.\n",
    "2. Examine how **recursive functions** operate on trees.\n",
    "\n",
    "Recall language template\n",
    "\n",
    "1. Input/Output:\n",
    "2. **Data: tree data-type**\n",
    "3. **Code: recursive function**"
   ]
  },
  {
   "cell_type": "markdown",
   "id": "1f6b7af2",
   "metadata": {},
   "source": [
    "## Outline\n",
    "\n",
    "- Why ADTs?\n",
    "- Trees"
   ]
  },
  {
   "cell_type": "markdown",
   "id": "17df086b",
   "metadata": {},
   "source": [
    "## Why ADTs?\n",
    "\n",
    "Example:  [https://www.paulrand.design/work/Book-Covers.html](https://www.paulrand.design/work/Book-Covers.html)\n",
    "\n",
    "Here's a question for you first.\n",
    "\n",
    "```\n",
    "\n",
    "\n",
    "\n",
    "\n",
    "\n",
    "\n",
    "\n",
    "\n",
    "Imagine you're a graphic designer.\n",
    "You want to layout a book cover with:\n",
    "1. Text\n",
    "2. Drawings\n",
    "in an aesthetically pleasing way.\n",
    "\n",
    "\n",
    "How would you tackle the problem of laying out such a book cover?\n",
    "\n",
    "\n",
    "\n",
    "\n",
    "\n",
    "\n",
    "\n",
    "\n",
    "\n",
    "```"
   ]
  },
  {
   "cell_type": "code",
   "execution_count": 2,
   "id": "37d6339b",
   "metadata": {},
   "outputs": [
    {
     "data": {
      "text/html": [
       "\n",
       "<div class=\"bx--tile\">\n",
       "    BOX 1: Imagine I'm a page\n",
       "</div>\n"
      ]
     },
     "metadata": {},
     "output_type": "display_data"
    }
   ],
   "source": [
    "tslab.display.html(`\n",
    "<div class=\"bx--tile\">\n",
    "    BOX 1: Imagine I'm a page\n",
    "</div>\n",
    "`)"
   ]
  },
  {
   "cell_type": "code",
   "execution_count": 3,
   "id": "66dc3fbd",
   "metadata": {},
   "outputs": [
    {
     "data": {
      "text/html": [
       "\n",
       "<div class=\"bx--grid\"> BOX 1: Imagine I'm a page\n",
       "    <div class=\"bx--row\">\n",
       "        <div class=\"bx--col\">\n",
       "            <div class=\"bx--tile\">\n",
       "                BOX 2: Left side of page\n",
       "            </div>\n",
       "        </div>\n",
       "        <div class=\"bx--col\">\n",
       "            <div class=\"bx--tile\">\n",
       "                BOX 3: Right side of page\n",
       "            </div>\n",
       "        </div>\n",
       "    </div>\n"
      ]
     },
     "metadata": {},
     "output_type": "display_data"
    }
   ],
   "source": [
    "tslab.display.html(`\n",
    "<div class=\"bx--grid\"> BOX 1: Imagine I'm a page\n",
    "    <div class=\"bx--row\">\n",
    "        <div class=\"bx--col\">\n",
    "            <div class=\"bx--tile\">\n",
    "                BOX 2: Left side of page\n",
    "            </div>\n",
    "        </div>\n",
    "        <div class=\"bx--col\">\n",
    "            <div class=\"bx--tile\">\n",
    "                BOX 3: Right side of page\n",
    "            </div>\n",
    "        </div>\n",
    "    </div>\n",
    "`)"
   ]
  },
  {
   "cell_type": "code",
   "execution_count": 4,
   "id": "7187ce2e",
   "metadata": {},
   "outputs": [
    {
     "data": {
      "text/html": [
       "\n",
       "<div class=\"bx--grid\"> BOX 1: Imagine I'm a page\n",
       "    <div class=\"bx--row\">\n",
       "        <div class=\"bx--col\">\n",
       "            <div class=\"bx--tile\">\n",
       "                BOX2: Left side of page\n",
       "            </div>\n",
       "        </div>\n",
       "        <div class=\"bx--col\">\n",
       "            <div class=\"bx--tile\">\n",
       "                BOX3: Right side of page\n",
       "                \n",
       "                <div class=\"bx--tile\">\n",
       "                    BOX4: A sub-page within the right page\n",
       "                </div>\n",
       "            </div>\n",
       "        </div>\n",
       "    </div>\n",
       "</div>\n"
      ]
     },
     "metadata": {},
     "output_type": "display_data"
    }
   ],
   "source": [
    "tslab.display.html(`\n",
    "<div class=\"bx--grid\"> BOX 1: Imagine I'm a page\n",
    "    <div class=\"bx--row\">\n",
    "        <div class=\"bx--col\">\n",
    "            <div class=\"bx--tile\">\n",
    "                BOX2: Left side of page\n",
    "            </div>\n",
    "        </div>\n",
    "        <div class=\"bx--col\">\n",
    "            <div class=\"bx--tile\">\n",
    "                BOX3: Right side of page\n",
    "                \n",
    "                <div class=\"bx--tile\">\n",
    "                    BOX4: A sub-page within the right page\n",
    "                </div>\n",
    "            </div>\n",
    "        </div>\n",
    "    </div>\n",
    "</div>\n",
    "`)"
   ]
  },
  {
   "cell_type": "markdown",
   "id": "359bf169",
   "metadata": {},
   "source": [
    "### Notice a Pattern?\n",
    "\n",
    "- To solve the graphic design problem, we're \"nesting\" boxes within boxes.\n",
    "- This is starting to look like recursion.\n",
    "    - Maybe I don't know how to layout the full page.\n",
    "    - I'll solve a simpler version of the same problem by splitting the page into different smaller pages.\n",
    "    - Now let me solve the layout problem for the smaller pages.\n",
    "    - And put together the results for the original page.\n",
    "- But we need something more complex than the list ADT."
   ]
  },
  {
   "cell_type": "markdown",
   "id": "ddc33327",
   "metadata": {},
   "source": [
    "## Trees\n",
    "\n",
    "- Enter the next simplest ADT, the *tree* data-types."
   ]
  },
  {
   "cell_type": "code",
   "execution_count": 5,
   "id": "58b3af8e",
   "metadata": {},
   "outputs": [
    {
     "data": {
      "text/html": [
       "\n",
       "<style>\n",
       "    #mydiv7c02d1a6-8598-47ae-aaa6-20d006c987a5 {\n",
       "        width: 800px;\n",
       "        height: 350px;\n",
       "        // position: absolute;\n",
       "        top: 0px;\n",
       "        left: 0px;\n",
       "    }\n",
       "</style>\n",
       "<div id=\"mydiv7c02d1a6-8598-47ae-aaa6-20d006c987a5\"></div>\n"
      ]
     },
     "metadata": {},
     "output_type": "display_data"
    },
    {
     "data": {
      "text/html": [
       "\n",
       "<script>\n",
       " (function(element) {\n",
       "     require(['cytoscape'], function(cytoscape) {   \n",
       "        var cy = cytoscape({\n",
       "         container: document.getElementById('mydiv7c02d1a6-8598-47ae-aaa6-20d006c987a5'),\n",
       "         style: [\n",
       "{\n",
       "  selector: 'node',\n",
       "  css: {\n",
       "    'class': \".bx--tree\",\n",
       "    'label': 'data(label)',\n",
       "  }\n",
       "},\n",
       "{\n",
       "  selector: 'edge',\n",
       "  css: {\n",
       "    'width': 3,\n",
       "//                 'line-color': '#ccc123',\n",
       "    'curve-style': 'bezier',\n",
       "    'target-arrow-shape': 'triangle',\n",
       "    'target-arrow-fill': 'filled',\n",
       "    'arrow-scale': 1,\n",
       "  }\n",
       "}\n",
       "],\n",
       "         layout: \n",
       "{\n",
       "  name: 'breadthfirst',\n",
       "  directed: true,\n",
       "  padding: 10\n",
       "}\n",
       ",\n",
       "         elements: [\n",
       "  { data: { id: 'node23', label: 4 } },\n",
       "  { data: { id: 'edge24', source: 'node23', target: 'node11' } },\n",
       "  { data: { id: 'edge25', source: 'node23', target: 'node20' } },\n",
       "  { data: { id: 'node11', label: 3 } },\n",
       "  { data: { id: 'edge12', source: 'node11', target: 'node3' } },\n",
       "  { data: { id: 'edge13', source: 'node11', target: 'node8' } },\n",
       "  { data: { id: 'node3', label: 1 } },\n",
       "  { data: { id: 'edge4', source: 'node3', target: 'leaf1' } },\n",
       "  { data: { id: 'edge5', source: 'node3', target: 'leaf2' } },\n",
       "  { data: { id: 'leaf1' } },\n",
       "  { data: { id: 'leaf2' } },\n",
       "  { data: { id: 'node8', label: 2 } },\n",
       "  { data: { id: 'edge9', source: 'node8', target: 'leaf6' } },\n",
       "  { data: { id: 'edge10', source: 'node8', target: 'leaf7' } },\n",
       "  { data: { id: 'leaf6' } },\n",
       "  { data: { id: 'leaf7' } },\n",
       "  { data: { id: 'node20', label: 2 } },\n",
       "  { data: { id: 'edge21', source: 'node20', target: 'node16' } },\n",
       "  { data: { id: 'edge22', source: 'node20', target: 'leaf19' } },\n",
       "  { data: { id: 'node16', label: 1 } },\n",
       "  { data: { id: 'edge17', source: 'node16', target: 'leaf14' } },\n",
       "  { data: { id: 'edge18', source: 'node16', target: 'leaf15' } },\n",
       "  { data: { id: 'leaf14' } },\n",
       "  { data: { id: 'leaf15' } },\n",
       "  { data: { id: 'leaf19' } }\n",
       "]\n",
       "         });\n",
       "     });\n",
       " })(this.element);\n",
       "</script>\n"
      ]
     },
     "metadata": {},
     "output_type": "display_data"
    }
   ],
   "source": [
    "import * as tree from \"./lib/tree\";\n",
    "\n",
    "drawTree(tree.t4)"
   ]
  },
  {
   "cell_type": "code",
   "execution_count": 6,
   "id": "47219aad",
   "metadata": {},
   "outputs": [],
   "source": [
    "// Literal types\n",
    "\n",
    "const tag: 0 = 0;      // In typescript, you can use booleans, strings, and numbers as types\n",
    "// const tag: 0 = 1;   // Fails because 1 is not 0"
   ]
  },
  {
   "cell_type": "code",
   "execution_count": 7,
   "id": "ae6c1d8b",
   "metadata": {},
   "outputs": [],
   "source": [
    "// Object types\n",
    "\n",
    "const x: { key1: 0, key2: number} = { key1: 0, key2: 1};  //\n",
    "// const fail2: { key1: 0, key2: number} = { key: 0, key2: 1};  // Fails because key is not key1\n",
    "// const fail1: { key1: 0, key2: number} = { key1: 2, key2: 1}; // Fails because the value 2 is not 0"
   ]
  },
  {
   "cell_type": "code",
   "execution_count": 8,
   "id": "0ebe2696",
   "metadata": {},
   "outputs": [],
   "source": [
    "// Tree data-type\n",
    "enum _Tree { LEAF, NODE };    // LEAF refers to 0, NODE refers to 1\n",
    "type Tree<T> =\n",
    "    {tag: _Tree.LEAF}         // Leaf node, similar to List Nil\n",
    "  | {tag: _Tree.NODE, contents: T, left: Tree<T>, right: Tree<T>};  // Tree node, similar to List Cons"
   ]
  },
  {
   "cell_type": "code",
   "execution_count": 9,
   "id": "eccca80f",
   "metadata": {},
   "outputs": [],
   "source": [
    "function Leaf<T>(): Tree<T> {\n",
    "    // Constructor function for a node with no contents.\n",
    "    return {tag: _Tree.LEAF};\n",
    "}\n",
    "\n",
    "function Node<T>(x: T, left: Tree<T>, right: Tree<T>): Tree<T> {\n",
    "    // Constructor function for a node with contents, a left sub-tree, and a right-subtree.\n",
    "    return {tag: _Tree.NODE, contents: x, left: left, right: right};\n",
    "}\n",
    "\n",
    "function LeafNode<T>(x: T): Tree<T> {\n",
    "    return Node(x, Leaf(), Leaf());\n",
    "}"
   ]
  },
  {
   "cell_type": "code",
   "execution_count": 10,
   "id": "b8e11daa",
   "metadata": {},
   "outputs": [],
   "source": [
    "const t0 = LeafNode(\"Box2: Left\")\n",
    "const t1 = LeafNode(\"Box 4: Right Bot\");\n",
    "const t2 = Node(\"Box 3: Right\", t1, Leaf());\n",
    "const t3 = Node(\"Box 1\", t0, t2);"
   ]
  },
  {
   "cell_type": "code",
   "execution_count": 11,
   "id": "ba562699",
   "metadata": {},
   "outputs": [
    {
     "data": {
      "text/html": [
       "\n",
       "<style>\n",
       "    #mydiv902738c2-d384-4a58-87e4-4bdd626de8af {\n",
       "        width: 800px;\n",
       "        height: 350px;\n",
       "        // position: absolute;\n",
       "        top: 0px;\n",
       "        left: 0px;\n",
       "    }\n",
       "</style>\n",
       "<div id=\"mydiv902738c2-d384-4a58-87e4-4bdd626de8af\"></div>\n"
      ]
     },
     "metadata": {},
     "output_type": "display_data"
    },
    {
     "data": {
      "text/html": [
       "\n",
       "<script>\n",
       " (function(element) {\n",
       "     require(['cytoscape'], function(cytoscape) {   \n",
       "        var cy = cytoscape({\n",
       "         container: document.getElementById('mydiv902738c2-d384-4a58-87e4-4bdd626de8af'),\n",
       "         style: [\n",
       "{\n",
       "  selector: 'node',\n",
       "  css: {\n",
       "    'class': \".bx--tree\",\n",
       "    'label': 'data(label)',\n",
       "  }\n",
       "},\n",
       "{\n",
       "  selector: 'edge',\n",
       "  css: {\n",
       "    'width': 3,\n",
       "//                 'line-color': '#ccc123',\n",
       "    'curve-style': 'bezier',\n",
       "    'target-arrow-shape': 'triangle',\n",
       "    'target-arrow-fill': 'filled',\n",
       "    'arrow-scale': 1,\n",
       "  }\n",
       "}\n",
       "],\n",
       "         layout: \n",
       "{\n",
       "  name: 'breadthfirst',\n",
       "  directed: true,\n",
       "  padding: 10\n",
       "}\n",
       ",\n",
       "         elements: [\n",
       "  { data: { id: 'node3', label: 'Box 4: Right Bot' } },\n",
       "  { data: { id: 'edge4', source: 'node3', target: 'leaf1' } },\n",
       "  { data: { id: 'edge5', source: 'node3', target: 'leaf2' } },\n",
       "  { data: { id: 'leaf1' } },\n",
       "  { data: { id: 'leaf2' } }\n",
       "]\n",
       "         });\n",
       "     });\n",
       " })(this.element);\n",
       "</script>\n"
      ]
     },
     "metadata": {},
     "output_type": "display_data"
    }
   ],
   "source": [
    "drawTree(t1)"
   ]
  },
  {
   "cell_type": "code",
   "execution_count": 12,
   "id": "28ebcfd9",
   "metadata": {},
   "outputs": [
    {
     "data": {
      "text/html": [
       "\n",
       "<style>\n",
       "    #mydiv56733039-850e-4e63-baac-c58c25d55117 {\n",
       "        width: 800px;\n",
       "        height: 350px;\n",
       "        // position: absolute;\n",
       "        top: 0px;\n",
       "        left: 0px;\n",
       "    }\n",
       "</style>\n",
       "<div id=\"mydiv56733039-850e-4e63-baac-c58c25d55117\"></div>\n"
      ]
     },
     "metadata": {},
     "output_type": "display_data"
    },
    {
     "data": {
      "text/html": [
       "\n",
       "<script>\n",
       " (function(element) {\n",
       "     require(['cytoscape'], function(cytoscape) {   \n",
       "        var cy = cytoscape({\n",
       "         container: document.getElementById('mydiv56733039-850e-4e63-baac-c58c25d55117'),\n",
       "         style: [\n",
       "{\n",
       "  selector: 'node',\n",
       "  css: {\n",
       "    'class': \".bx--tree\",\n",
       "    'label': 'data(label)',\n",
       "  }\n",
       "},\n",
       "{\n",
       "  selector: 'edge',\n",
       "  css: {\n",
       "    'width': 3,\n",
       "//                 'line-color': '#ccc123',\n",
       "    'curve-style': 'bezier',\n",
       "    'target-arrow-shape': 'triangle',\n",
       "    'target-arrow-fill': 'filled',\n",
       "    'arrow-scale': 1,\n",
       "  }\n",
       "}\n",
       "],\n",
       "         layout: \n",
       "{\n",
       "  name: 'breadthfirst',\n",
       "  directed: true,\n",
       "  padding: 10\n",
       "}\n",
       ",\n",
       "         elements: [\n",
       "  { data: { id: 'node7', label: 'Box 3: Right' } },\n",
       "  { data: { id: 'edge8', source: 'node7', target: 'node3' } },\n",
       "  { data: { id: 'edge9', source: 'node7', target: 'leaf6' } },\n",
       "  { data: { id: 'node3', label: 'Box 4: Right Bot' } },\n",
       "  { data: { id: 'edge4', source: 'node3', target: 'leaf1' } },\n",
       "  { data: { id: 'edge5', source: 'node3', target: 'leaf2' } },\n",
       "  { data: { id: 'leaf1' } },\n",
       "  { data: { id: 'leaf2' } },\n",
       "  { data: { id: 'leaf6' } }\n",
       "]\n",
       "         });\n",
       "     });\n",
       " })(this.element);\n",
       "</script>\n"
      ]
     },
     "metadata": {},
     "output_type": "display_data"
    }
   ],
   "source": [
    "drawTree(t2)"
   ]
  },
  {
   "cell_type": "code",
   "execution_count": 13,
   "id": "e81fa83e",
   "metadata": {},
   "outputs": [
    {
     "data": {
      "text/html": [
       "\n",
       "<style>\n",
       "    #mydiv2aaa3880-21db-4444-9e63-bb75a8ba7a39 {\n",
       "        width: 800px;\n",
       "        height: 350px;\n",
       "        // position: absolute;\n",
       "        top: 0px;\n",
       "        left: 0px;\n",
       "    }\n",
       "</style>\n",
       "<div id=\"mydiv2aaa3880-21db-4444-9e63-bb75a8ba7a39\"></div>\n"
      ]
     },
     "metadata": {},
     "output_type": "display_data"
    },
    {
     "data": {
      "text/html": [
       "\n",
       "<script>\n",
       " (function(element) {\n",
       "     require(['cytoscape'], function(cytoscape) {   \n",
       "        var cy = cytoscape({\n",
       "         container: document.getElementById('mydiv2aaa3880-21db-4444-9e63-bb75a8ba7a39'),\n",
       "         style: [\n",
       "{\n",
       "  selector: 'node',\n",
       "  css: {\n",
       "    'class': \".bx--tree\",\n",
       "    'label': 'data(label)',\n",
       "  }\n",
       "},\n",
       "{\n",
       "  selector: 'edge',\n",
       "  css: {\n",
       "    'width': 3,\n",
       "//                 'line-color': '#ccc123',\n",
       "    'curve-style': 'bezier',\n",
       "    'target-arrow-shape': 'triangle',\n",
       "    'target-arrow-fill': 'filled',\n",
       "    'arrow-scale': 1,\n",
       "  }\n",
       "}\n",
       "],\n",
       "         layout: \n",
       "{\n",
       "  name: 'breadthfirst',\n",
       "  directed: true,\n",
       "  padding: 10\n",
       "}\n",
       ",\n",
       "         elements: [\n",
       "  { data: { id: 'node15', label: 'Box 1' } },\n",
       "  { data: { id: 'edge16', source: 'node15', target: 'node3' } },\n",
       "  { data: { id: 'edge17', source: 'node15', target: 'node12' } },\n",
       "  { data: { id: 'node3', label: 'Box2: Left' } },\n",
       "  { data: { id: 'edge4', source: 'node3', target: 'leaf1' } },\n",
       "  { data: { id: 'edge5', source: 'node3', target: 'leaf2' } },\n",
       "  { data: { id: 'leaf1' } },\n",
       "  { data: { id: 'leaf2' } },\n",
       "  { data: { id: 'node12', label: 'Box 3: Right' } },\n",
       "  { data: { id: 'edge13', source: 'node12', target: 'node8' } },\n",
       "  { data: { id: 'edge14', source: 'node12', target: 'leaf11' } },\n",
       "  { data: { id: 'node8', label: 'Box 4: Right Bot' } },\n",
       "  { data: { id: 'edge9', source: 'node8', target: 'leaf6' } },\n",
       "  { data: { id: 'edge10', source: 'node8', target: 'leaf7' } },\n",
       "  { data: { id: 'leaf6' } },\n",
       "  { data: { id: 'leaf7' } },\n",
       "  { data: { id: 'leaf11' } }\n",
       "]\n",
       "         });\n",
       "     });\n",
       " })(this.element);\n",
       "</script>\n"
      ]
     },
     "metadata": {},
     "output_type": "display_data"
    }
   ],
   "source": [
    "drawTree(t3)"
   ]
  },
  {
   "cell_type": "code",
   "execution_count": 14,
   "id": "034349a6",
   "metadata": {},
   "outputs": [
    {
     "name": "stdout",
     "output_type": "stream",
     "text": [
      "{\n",
      "  tag: \u001b[33m1\u001b[39m,\n",
      "  contents: \u001b[32m'Box 4: Right Bot'\u001b[39m,\n",
      "  left: { tag: \u001b[33m0\u001b[39m },\n",
      "  right: { tag: \u001b[33m0\u001b[39m }\n",
      "}\n"
     ]
    }
   ],
   "source": [
    "t1"
   ]
  },
  {
   "cell_type": "code",
   "execution_count": 15,
   "id": "2469947a",
   "metadata": {},
   "outputs": [
    {
     "name": "stdout",
     "output_type": "stream",
     "text": [
      "{\n",
      "  tag: \u001b[33m1\u001b[39m,\n",
      "  contents: \u001b[32m'Box 3: Right'\u001b[39m,\n",
      "  left: {\n",
      "    tag: \u001b[33m1\u001b[39m,\n",
      "    contents: \u001b[32m'Box 4: Right Bot'\u001b[39m,\n",
      "    left: { tag: \u001b[33m0\u001b[39m },\n",
      "    right: { tag: \u001b[33m0\u001b[39m }\n",
      "  },\n",
      "  right: { tag: \u001b[33m0\u001b[39m }\n",
      "}\n"
     ]
    }
   ],
   "source": [
    "t2 // Notice nesting of t1 in t2's left child"
   ]
  },
  {
   "cell_type": "code",
   "execution_count": 16,
   "id": "979c54c2",
   "metadata": {},
   "outputs": [
    {
     "name": "stdout",
     "output_type": "stream",
     "text": [
      "{\n",
      "  tag: \u001b[33m1\u001b[39m,\n",
      "  contents: \u001b[32m'Box 1'\u001b[39m,\n",
      "  left: {\n",
      "    tag: \u001b[33m1\u001b[39m,\n",
      "    contents: \u001b[32m'Box2: Left'\u001b[39m,\n",
      "    left: { tag: \u001b[33m0\u001b[39m },\n",
      "    right: { tag: \u001b[33m0\u001b[39m }\n",
      "  },\n",
      "  right: {\n",
      "    tag: \u001b[33m1\u001b[39m,\n",
      "    contents: \u001b[32m'Box 3: Right'\u001b[39m,\n",
      "    left: {\n",
      "      tag: \u001b[33m1\u001b[39m,\n",
      "      contents: \u001b[32m'Box 4: Right Bot'\u001b[39m,\n",
      "      left: \u001b[36m[Object]\u001b[39m,\n",
      "      right: \u001b[36m[Object]\u001b[39m\n",
      "    },\n",
      "    right: { tag: \u001b[33m0\u001b[39m }\n",
      "  }\n",
      "}\n"
     ]
    }
   ],
   "source": [
    "t3 // Notice nesting of t2 in t3's right child"
   ]
  },
  {
   "cell_type": "markdown",
   "id": "786d5296",
   "metadata": {},
   "source": [
    "#### Recursive Functions on Trees"
   ]
  },
  {
   "cell_type": "code",
   "execution_count": 17,
   "id": "ab074f65",
   "metadata": {},
   "outputs": [
    {
     "name": "stdout",
     "output_type": "stream",
     "text": [
      "\u001b[33m3\u001b[39m\n"
     ]
    }
   ],
   "source": [
    "// Compare with length on tree\n",
    "function height<T>(t: Tree<T>): number {\n",
    "    switch (t.tag) {\n",
    "        case _Tree.LEAF: {   // Base case: leaf node\n",
    "            return 0;\n",
    "        }\n",
    "        case _Tree.NODE: {   // Recursive (or inductive) case: node with left and right child\n",
    "            // Compare with length on tree\n",
    "            return 1 + Math.max(height(t.left), height(t.right));\n",
    "        }\n",
    "    }\n",
    "}\n",
    "\n",
    "height(t3)"
   ]
  },
  {
   "cell_type": "code",
   "execution_count": 18,
   "id": "7cbbc282",
   "metadata": {},
   "outputs": [
    {
     "data": {
      "text/html": [
       "\n",
       "<style>\n",
       "    #mydiv7d571bd8-f06a-4112-84b8-31f0316c443e {\n",
       "        width: 800px;\n",
       "        height: 350px;\n",
       "        // position: absolute;\n",
       "        top: 0px;\n",
       "        left: 0px;\n",
       "    }\n",
       "</style>\n",
       "<div id=\"mydiv7d571bd8-f06a-4112-84b8-31f0316c443e\"></div>\n"
      ]
     },
     "metadata": {},
     "output_type": "display_data"
    },
    {
     "data": {
      "text/html": [
       "\n",
       "<script>\n",
       " (function(element) {\n",
       "     require(['cytoscape'], function(cytoscape) {   \n",
       "        var cy = cytoscape({\n",
       "         container: document.getElementById('mydiv7d571bd8-f06a-4112-84b8-31f0316c443e'),\n",
       "         style: [\n",
       "{\n",
       "  selector: 'node',\n",
       "  css: {\n",
       "    'class': \".bx--tree\",\n",
       "    'label': 'data(label)',\n",
       "  }\n",
       "},\n",
       "{\n",
       "  selector: 'edge',\n",
       "  css: {\n",
       "    'width': 3,\n",
       "//                 'line-color': '#ccc123',\n",
       "    'curve-style': 'bezier',\n",
       "    'target-arrow-shape': 'triangle',\n",
       "    'target-arrow-fill': 'filled',\n",
       "    'arrow-scale': 1,\n",
       "  }\n",
       "}\n",
       "],\n",
       "         layout: \n",
       "{\n",
       "  name: 'breadthfirst',\n",
       "  directed: true,\n",
       "  padding: 10\n",
       "}\n",
       ",\n",
       "         elements: [\n",
       "  {\n",
       "    data: {\n",
       "      id: 0,\n",
       "      label: 'CALL[0]([[\"t\",{\"tag\":1,\"contents\":\"Box 4: Right Bot\",\"left\":{\"tag\":0},\"right\":{\"tag\":0}}]])'\n",
       "    }\n",
       "  },\n",
       "  { data: { id: 1, label: 'CALL[1]([[\"t\",{\"tag\":0}]])' } },\n",
       "  { data: { id: 'edge1', source: 0, target: 1 } },\n",
       "  { data: { id: 2, label: 'RET[2](0)' } },\n",
       "  { data: { id: 'edge2', source: 1, target: 2 } },\n",
       "  { data: { id: 3, label: 'CALL[3]([[\"t\",{\"tag\":0}]])' } },\n",
       "  { data: { id: 'edge3', source: 0, target: 3 } },\n",
       "  { data: { id: 4, label: 'RET[4](0)' } },\n",
       "  { data: { id: 'edge4', source: 3, target: 4 } },\n",
       "  { data: { id: 5, label: 'RET[5](1)' } },\n",
       "  { data: { id: 'edge5', source: 4, target: 5 } },\n",
       "  { data: { id: 'edge6', source: 2, target: 5 } }\n",
       "]\n",
       "         });\n",
       "     });\n",
       " })(this.element);\n",
       "</script>\n"
      ]
     },
     "metadata": {},
     "output_type": "display_data"
    }
   ],
   "source": [
    "// Compare with list\n",
    "const res = introspect.traceCallStack(height, exports);\n",
    "res.func(t1)\n",
    "drawCallStack(res.stack)"
   ]
  },
  {
   "cell_type": "code",
   "execution_count": 19,
   "id": "5eeb80a9",
   "metadata": {},
   "outputs": [
    {
     "data": {
      "text/html": [
       "\n",
       "<style>\n",
       "    #mydivb5a19712-f879-4ac9-adad-a962fd5efd6a {\n",
       "        width: 800px;\n",
       "        height: 350px;\n",
       "        // position: absolute;\n",
       "        top: 0px;\n",
       "        left: 0px;\n",
       "    }\n",
       "</style>\n",
       "<div id=\"mydivb5a19712-f879-4ac9-adad-a962fd5efd6a\"></div>\n"
      ]
     },
     "metadata": {},
     "output_type": "display_data"
    },
    {
     "data": {
      "text/html": [
       "\n",
       "<script>\n",
       " (function(element) {\n",
       "     require(['cytoscape'], function(cytoscape) {   \n",
       "        var cy = cytoscape({\n",
       "         container: document.getElementById('mydivb5a19712-f879-4ac9-adad-a962fd5efd6a'),\n",
       "         style: [\n",
       "{\n",
       "  selector: 'node',\n",
       "  css: {\n",
       "    'class': \".bx--tree\",\n",
       "    'label': 'data(label)',\n",
       "  }\n",
       "},\n",
       "{\n",
       "  selector: 'edge',\n",
       "  css: {\n",
       "    'width': 3,\n",
       "//                 'line-color': '#ccc123',\n",
       "    'curve-style': 'bezier',\n",
       "    'target-arrow-shape': 'triangle',\n",
       "    'target-arrow-fill': 'filled',\n",
       "    'arrow-scale': 1,\n",
       "  }\n",
       "}\n",
       "],\n",
       "         layout: \n",
       "{\n",
       "  name: 'breadthfirst',\n",
       "  directed: true,\n",
       "  padding: 10\n",
       "}\n",
       ",\n",
       "         elements: [\n",
       "  {\n",
       "    data: {\n",
       "      id: 0,\n",
       "      label: 'CALL[0]([[\"t\",{\"tag\":1,\"contents\":\"Box 3: Right\",\"left\":{\"tag\":1,\"contents\":\"Box 4: Right Bot\",\"left\":{\"tag\":0},\"right\":{\"tag\":0}},\"right\":{\"tag\":0}}]])'\n",
       "    }\n",
       "  },\n",
       "  {\n",
       "    data: {\n",
       "      id: 1,\n",
       "      label: 'CALL[1]([[\"t\",{\"tag\":1,\"contents\":\"Box 4: Right Bot\",\"left\":{\"tag\":0},\"right\":{\"tag\":0}}]])'\n",
       "    }\n",
       "  },\n",
       "  { data: { id: 'edge1', source: 0, target: 1 } },\n",
       "  { data: { id: 2, label: 'CALL[2]([[\"t\",{\"tag\":0}]])' } },\n",
       "  { data: { id: 'edge2', source: 1, target: 2 } },\n",
       "  { data: { id: 3, label: 'RET[3](0)' } },\n",
       "  { data: { id: 'edge3', source: 2, target: 3 } },\n",
       "  { data: { id: 4, label: 'CALL[4]([[\"t\",{\"tag\":0}]])' } },\n",
       "  { data: { id: 'edge4', source: 1, target: 4 } },\n",
       "  { data: { id: 5, label: 'RET[5](0)' } },\n",
       "  { data: { id: 'edge5', source: 4, target: 5 } },\n",
       "  { data: { id: 6, label: 'RET[6](1)' } },\n",
       "  { data: { id: 'edge6', source: 5, target: 6 } },\n",
       "  { data: { id: 'edge7', source: 3, target: 6 } },\n",
       "  { data: { id: 7, label: 'CALL[7]([[\"t\",{\"tag\":0}]])' } },\n",
       "  { data: { id: 'edge8', source: 0, target: 7 } },\n",
       "  { data: { id: 8, label: 'RET[8](0)' } },\n",
       "  { data: { id: 'edge9', source: 7, target: 8 } },\n",
       "  { data: { id: 9, label: 'RET[9](2)' } },\n",
       "  { data: { id: 'edge10', source: 8, target: 9 } },\n",
       "  { data: { id: 'edge11', source: 6, target: 9 } }\n",
       "]\n",
       "         });\n",
       "     });\n",
       " })(this.element);\n",
       "</script>\n"
      ]
     },
     "metadata": {},
     "output_type": "display_data"
    }
   ],
   "source": [
    "// Compare with list\n",
    "const res = introspect.traceCallStack(height, exports);\n",
    "res.func(t2) // recall nesting again\n",
    "drawCallStack(res.stack)"
   ]
  },
  {
   "cell_type": "code",
   "execution_count": 20,
   "id": "f2132792",
   "metadata": {},
   "outputs": [],
   "source": [
    "function treeToString<T>(t: Tree<T>): string {\n",
    "    switch (t.tag) {\n",
    "        case _Tree.LEAF: {\n",
    "            return \"()\";\n",
    "        }\n",
    "        case _Tree.NODE: {\n",
    "            return `(${t.contents.toString()} ${treeToString(t.left)} ${treeToString(t.right)})`;\n",
    "        }\n",
    "            \n",
    "    }\n",
    "}"
   ]
  },
  {
   "cell_type": "code",
   "execution_count": 21,
   "id": "d76148d6",
   "metadata": {},
   "outputs": [
    {
     "name": "stdout",
     "output_type": "stream",
     "text": [
      "(Box 1 (Box2: Left () ()) (Box 3: Right (Box 4: Right Bot () ()) ()))\n"
     ]
    }
   ],
   "source": [
    "treeToString(t3)"
   ]
  },
  {
   "cell_type": "code",
   "execution_count": 22,
   "id": "f8a3314f",
   "metadata": {},
   "outputs": [
    {
     "data": {
      "text/html": [
       "\n",
       "<style>\n",
       "    #mydiv58595a2c-050d-4d31-a3f8-7930939071b7 {\n",
       "        width: 800px;\n",
       "        height: 350px;\n",
       "        // position: absolute;\n",
       "        top: 0px;\n",
       "        left: 0px;\n",
       "    }\n",
       "</style>\n",
       "<div id=\"mydiv58595a2c-050d-4d31-a3f8-7930939071b7\"></div>\n"
      ]
     },
     "metadata": {},
     "output_type": "display_data"
    },
    {
     "data": {
      "text/html": [
       "\n",
       "<script>\n",
       " (function(element) {\n",
       "     require(['cytoscape'], function(cytoscape) {   \n",
       "        var cy = cytoscape({\n",
       "         container: document.getElementById('mydiv58595a2c-050d-4d31-a3f8-7930939071b7'),\n",
       "         style: [\n",
       "{\n",
       "  selector: 'node',\n",
       "  css: {\n",
       "    'class': \".bx--tree\",\n",
       "    'label': 'data(label)',\n",
       "  }\n",
       "},\n",
       "{\n",
       "  selector: 'edge',\n",
       "  css: {\n",
       "    'width': 3,\n",
       "//                 'line-color': '#ccc123',\n",
       "    'curve-style': 'bezier',\n",
       "    'target-arrow-shape': 'triangle',\n",
       "    'target-arrow-fill': 'filled',\n",
       "    'arrow-scale': 1,\n",
       "  }\n",
       "}\n",
       "],\n",
       "         layout: \n",
       "{\n",
       "  name: 'breadthfirst',\n",
       "  directed: true,\n",
       "  padding: 10\n",
       "}\n",
       ",\n",
       "         elements: [\n",
       "  {\n",
       "    data: {\n",
       "      id: 0,\n",
       "      label: 'CALL[0]([[\"t\",{\"tag\":1,\"contents\":\"Box 3: Right\",\"left\":{\"tag\":1,\"contents\":\"Box 4: Right Bot\",\"left\":{\"tag\":0},\"right\":{\"tag\":0}},\"right\":{\"tag\":0}}]])'\n",
       "    }\n",
       "  },\n",
       "  {\n",
       "    data: {\n",
       "      id: 1,\n",
       "      label: 'CALL[1]([[\"t\",{\"tag\":1,\"contents\":\"Box 4: Right Bot\",\"left\":{\"tag\":0},\"right\":{\"tag\":0}}]])'\n",
       "    }\n",
       "  },\n",
       "  { data: { id: 'edge1', source: 0, target: 1 } },\n",
       "  { data: { id: 2, label: 'CALL[2]([[\"t\",{\"tag\":0}]])' } },\n",
       "  { data: { id: 'edge2', source: 1, target: 2 } },\n",
       "  { data: { id: 3, label: 'RET[3](\"()\")' } },\n",
       "  { data: { id: 'edge3', source: 2, target: 3 } },\n",
       "  { data: { id: 4, label: 'CALL[4]([[\"t\",{\"tag\":0}]])' } },\n",
       "  { data: { id: 'edge4', source: 1, target: 4 } },\n",
       "  { data: { id: 5, label: 'RET[5](\"()\")' } },\n",
       "  { data: { id: 'edge5', source: 4, target: 5 } },\n",
       "  { data: { id: 6, label: 'RET[6](\"(Box 4: Right Bot () ())\")' } },\n",
       "  { data: { id: 'edge6', source: 5, target: 6 } },\n",
       "  { data: { id: 'edge7', source: 3, target: 6 } },\n",
       "  { data: { id: 7, label: 'CALL[7]([[\"t\",{\"tag\":0}]])' } },\n",
       "  { data: { id: 'edge8', source: 0, target: 7 } },\n",
       "  { data: { id: 8, label: 'RET[8](\"()\")' } },\n",
       "  { data: { id: 'edge9', source: 7, target: 8 } },\n",
       "  {\n",
       "    data: {\n",
       "      id: 9,\n",
       "      label: 'RET[9](\"(Box 3: Right (Box 4: Right Bot () ()) ())\")'\n",
       "    }\n",
       "  },\n",
       "  { data: { id: 'edge10', source: 8, target: 9 } },\n",
       "  { data: { id: 'edge11', source: 6, target: 9 } }\n",
       "]\n",
       "         });\n",
       "     });\n",
       " })(this.element);\n",
       "</script>\n"
      ]
     },
     "metadata": {},
     "output_type": "display_data"
    }
   ],
   "source": [
    "const res = introspect.traceCallStack(treeToString, exports);\n",
    "res.func(t2)\n",
    "drawCallStack(res.stack)"
   ]
  },
  {
   "cell_type": "markdown",
   "id": "4b3c3d70",
   "metadata": {},
   "source": [
    "#### What do the iterative solutions look like?"
   ]
  },
  {
   "cell_type": "code",
   "execution_count": 23,
   "id": "83501aa6",
   "metadata": {},
   "outputs": [],
   "source": [
    "function iterTreeToString<T>(t: Tree<T>): string {\n",
    "    let callStack: [string, Tree<T> | string][] = [];\n",
    "    let ans: string[] = [];\n",
    "    callStack.push([\"CALL\", t]);\n",
    "    \n",
    "    while (callStack.length > 0) {\n",
    "        const [mode, trOrStr] = callStack.pop();\n",
    "        if (mode == \"CALL\") {\n",
    "            const tr = trOrStr as Tree<T>;\n",
    "            switch ((tr).tag) {\n",
    "                case _Tree.LEAF: {\n",
    "                    ans.push(\"()\");\n",
    "                    break;\n",
    "                }\n",
    "                case _Tree.NODE: {\n",
    "                    callStack.push([\"PROCESS\", tr.contents.toString()]);\n",
    "                    callStack.push([\"CALL\", tr.right]);\n",
    "                    callStack.push([\"CALL\", tr.left]);\n",
    "                    break;\n",
    "                }\n",
    "            }\n",
    "        } else if (mode == \"PROCESS\") {\n",
    "            const str = trOrStr as string;\n",
    "            const right = ans.pop();\n",
    "            const left = ans.pop();\n",
    "            ans.push(`(${str} ${left} ${right})`);\n",
    "        } else {\n",
    "            throw Error(\"Shouldn't happen ...\");\n",
    "        }\n",
    "    }\n",
    "    \n",
    "    return ans.pop();\n",
    "}"
   ]
  },
  {
   "cell_type": "code",
   "execution_count": 24,
   "id": "240303bb",
   "metadata": {},
   "outputs": [
    {
     "name": "stdout",
     "output_type": "stream",
     "text": [
      "[\n",
      "  \u001b[32m'(Box 3: Right (Box 4: Right Bot () ()) ())'\u001b[39m,\n",
      "  \u001b[32m'(Box 3: Right (Box 4: Right Bot () ()) ())'\u001b[39m\n",
      "]\n"
     ]
    }
   ],
   "source": [
    "[iterTreeToString(t2), treeToString(t2)]"
   ]
  },
  {
   "cell_type": "code",
   "execution_count": 25,
   "id": "6db6ce91",
   "metadata": {},
   "outputs": [
    {
     "name": "stdout",
     "output_type": "stream",
     "text": [
      "[\n",
      "  \u001b[32m'(Box 1 (Box2: Left () ()) (Box 3: Right (Box 4: Right Bot () ()) ()))'\u001b[39m,\n",
      "  \u001b[32m'(Box 1 (Box2: Left () ()) (Box 3: Right (Box 4: Right Bot () ()) ()))'\u001b[39m\n",
      "]\n"
     ]
    }
   ],
   "source": [
    "[iterTreeToString(t3), treeToString(t3)]"
   ]
  },
  {
   "cell_type": "markdown",
   "id": "ff32da50",
   "metadata": {},
   "source": [
    "### Summary\n",
    "\n",
    "- You can do the **same** computations with both iteration and recursion.\n",
    "- Recursion uses more **stack frames** (the traceCallStack picture) than iteration.\n",
    "- For some functions, iteration requires you to simulate the stack on the heap (e.g., iterTreeToString)"
   ]
  },
  {
   "cell_type": "markdown",
   "id": "08f1f73a",
   "metadata": {},
   "source": [
    "## JSON\n",
    "\n",
    "[https://www.json.org/json-en.html](https://www.json.org/json-en.html)"
   ]
  },
  {
   "cell_type": "code",
   "execution_count": 26,
   "id": "94f8c53c",
   "metadata": {},
   "outputs": [
    {
     "name": "stdout",
     "output_type": "stream",
     "text": [
      "{\n",
      "  tag: \u001b[32m'div'\u001b[39m,\n",
      "  style: \u001b[32m''\u001b[39m,\n",
      "  body: \u001b[32m'BOX 1: Right'\u001b[39m,\n",
      "  children: [\n",
      "    { tag: \u001b[32m'div'\u001b[39m, style: \u001b[32m''\u001b[39m, body: \u001b[32m'BOX 2: Left'\u001b[39m, children: [] },\n",
      "    { tag: \u001b[32m'div'\u001b[39m, style: \u001b[32m''\u001b[39m, body: \u001b[32m'BOX 3: Right'\u001b[39m, children: \u001b[36m[Array]\u001b[39m }\n",
      "  ]\n",
      "}\n"
     ]
    }
   ],
   "source": [
    "// Our tree example in JSON\n",
    "\n",
    "const j0 = {'tag': 'div', 'style': '', 'body': 'BOX 2: Left', 'children': []};\n",
    "const j1 = {'tag': 'div', 'style': '', 'body': 'BOX 4: Right Bot', 'children': []};\n",
    "const j2 = {'tag': 'div', 'style': '', 'body': 'BOX 3: Right', 'children': [j1]};\n",
    "const j3 = {'tag': 'div', 'style': '', 'body': 'BOX 1: Right', 'children': [j0, j2]};\n",
    "\n",
    "j3"
   ]
  },
  {
   "cell_type": "markdown",
   "id": "d6232794",
   "metadata": {},
   "source": [
    "### JSON Data Interchange Format"
   ]
  },
  {
   "cell_type": "code",
   "execution_count": 27,
   "id": "d7601c10",
   "metadata": {},
   "outputs": [],
   "source": [
    "type JSONValue = null | string | JSONObject | JSONValue[];\n",
    "type JSONObject = { [key: string]: JSONValue };\n",
    "\n",
    "function treeToJSON<T>(tr: Tree<T>): JSONObject {\n",
    "    switch (tr.tag) {\n",
    "        case (_Tree.LEAF): {\n",
    "            return { 'tag': '_Tree.LEAF' }\n",
    "        }\n",
    "        case (_Tree.NODE): {\n",
    "            return { 'tag': '_Tree.NODE',\n",
    "                     'contents': tr.contents.toString(),\n",
    "                     'left': treeToJSON(tr.left),\n",
    "                     'right': treeToJSON(tr.right) }\n",
    "        }\n",
    "    }\n",
    "}"
   ]
  },
  {
   "cell_type": "code",
   "execution_count": 28,
   "id": "845058e5",
   "metadata": {},
   "outputs": [
    {
     "name": "stdout",
     "output_type": "stream",
     "text": [
      "Original {\"tag\":\"_Tree.NODE\",\"contents\":\"Box 1\",\"left\":{\"tag\":\"_Tree.NODE\",\"contents\":\"Box2: Left\",\"left\":{\"tag\":\"_Tree.LEAF\"},\"right\":{\"tag\":\"_Tree.LEAF\"}},\"right\":{\"tag\":\"_Tree.NODE\",\"contents\":\"Box 3: Right\",\"left\":{\"tag\":\"_Tree.NODE\",\"contents\":\"Box 4: Right Bot\",\"left\":{\"tag\":\"_Tree.LEAF\"},\"right\":{\"tag\":\"_Tree.LEAF\"}},\"right\":{\"tag\":\"_Tree.LEAF\"}}}\n",
      "Decoded {\"tag\":\"_Tree.NODE\",\"contents\":\"Box 1\",\"left\":{\"tag\":\"_Tree.NODE\",\"contents\":\"Box2: Left\",\"left\":{\"tag\":\"_Tree.LEAF\"},\"right\":{\"tag\":\"_Tree.LEAF\"}},\"right\":{\"tag\":\"_Tree.NODE\",\"contents\":\"Box 3: Right\",\"left\":{\"tag\":\"_Tree.NODE\",\"contents\":\"Box 4: Right Bot\",\"left\":{\"tag\":\"_Tree.LEAF\"},\"right\":{\"tag\":\"_Tree.LEAF\"}},\"right\":{\"tag\":\"_Tree.LEAF\"}}}\n",
      "Decoded successfully? \u001b[33mtrue\u001b[39m\n"
     ]
    }
   ],
   "source": [
    "import * as fs from \"fs\";\n",
    "\n",
    "const jsonTree = treeToJSON(t3);\n",
    "console.log(\"Original\", JSON.stringify(jsonTree));\n",
    "\n",
    "fs.writeFileSync('jsonTree.json', JSON.stringify(jsonTree));\n",
    "try {\n",
    "    const data = fs.readFileSync('jsonTree.json', 'utf8')\n",
    "    console.log(\"Decoded\", data);\n",
    "    console.log(\"Decoded successfully?\", data == JSON.stringify(jsonTree))\n",
    "} catch (err) {\n",
    "    tslab.display.html(`<p> ${err}</p>`);\n",
    "}"
   ]
  },
  {
   "cell_type": "code",
   "execution_count": 29,
   "id": "be564503",
   "metadata": {},
   "outputs": [
    {
     "data": {
      "text/html": [
       "\n",
       "<style>\n",
       "    #mydiv28b82e67-fd1a-4d95-a8a3-66a0cbea6cfd {\n",
       "        width: 800px;\n",
       "        height: 350px;\n",
       "        // position: absolute;\n",
       "        top: 0px;\n",
       "        left: 0px;\n",
       "    }\n",
       "</style>\n",
       "<div id=\"mydiv28b82e67-fd1a-4d95-a8a3-66a0cbea6cfd\"></div>\n"
      ]
     },
     "metadata": {},
     "output_type": "display_data"
    },
    {
     "data": {
      "text/html": [
       "\n",
       "<script>\n",
       " (function(element) {\n",
       "     require(['cytoscape'], function(cytoscape) {   \n",
       "        var cy = cytoscape({\n",
       "         container: document.getElementById('mydiv28b82e67-fd1a-4d95-a8a3-66a0cbea6cfd'),\n",
       "         style: [\n",
       "{\n",
       "  selector: 'node',\n",
       "  css: {\n",
       "    'class': \".bx--tree\",\n",
       "    'label': 'data(label)',\n",
       "  }\n",
       "},\n",
       "{\n",
       "  selector: 'edge',\n",
       "  css: {\n",
       "    'width': 3,\n",
       "//                 'line-color': '#ccc123',\n",
       "    'curve-style': 'bezier',\n",
       "    'target-arrow-shape': 'triangle',\n",
       "    'target-arrow-fill': 'filled',\n",
       "    'arrow-scale': 1,\n",
       "  }\n",
       "}\n",
       "],\n",
       "         layout: \n",
       "{\n",
       "  name: 'breadthfirst',\n",
       "  directed: true,\n",
       "  padding: 10\n",
       "}\n",
       ",\n",
       "         elements: [\n",
       "  { data: { id: 'node15', label: 'Box 1' } },\n",
       "  { data: { id: 'edge16', source: 'node15', target: 'node3' } },\n",
       "  { data: { id: 'edge17', source: 'node15', target: 'node12' } },\n",
       "  { data: { id: 'node3', label: 'Box2: Left' } },\n",
       "  { data: { id: 'edge4', source: 'node3', target: 'leaf1' } },\n",
       "  { data: { id: 'edge5', source: 'node3', target: 'leaf2' } },\n",
       "  { data: { id: 'leaf1' } },\n",
       "  { data: { id: 'leaf2' } },\n",
       "  { data: { id: 'node12', label: 'Box 3: Right' } },\n",
       "  { data: { id: 'edge13', source: 'node12', target: 'node8' } },\n",
       "  { data: { id: 'edge14', source: 'node12', target: 'leaf11' } },\n",
       "  { data: { id: 'node8', label: 'Box 4: Right Bot' } },\n",
       "  { data: { id: 'edge9', source: 'node8', target: 'leaf6' } },\n",
       "  { data: { id: 'edge10', source: 'node8', target: 'leaf7' } },\n",
       "  { data: { id: 'leaf6' } },\n",
       "  { data: { id: 'leaf7' } },\n",
       "  { data: { id: 'leaf11' } }\n",
       "]\n",
       "         });\n",
       "     });\n",
       " })(this.element);\n",
       "</script>\n"
      ]
     },
     "metadata": {},
     "output_type": "display_data"
    }
   ],
   "source": [
    "function jsonToTree(jTree: JSONObject): Tree<string> {\n",
    "    switch ((jTree as { [tag: string]: any }).tag) {\n",
    "        case ('_Tree.LEAF'): {\n",
    "            return Leaf();\n",
    "        }\n",
    "        case ('_Tree.NODE'): {\n",
    "            const node = jTree as { tag: string, contents: string, left: JSONObject, right: JSONObject }\n",
    "            return Node(node.contents, jsonToTree(node.left), jsonToTree(node.right));\n",
    "        }\n",
    "    }\n",
    "}\n",
    "\n",
    "drawTree(jsonToTree(treeToJSON(t3)))"
   ]
  },
  {
   "cell_type": "markdown",
   "id": "9406606d",
   "metadata": {},
   "source": [
    "### JSON's as serialization format for TypeScript object"
   ]
  },
  {
   "cell_type": "code",
   "execution_count": 37,
   "id": "48ebed57",
   "metadata": {},
   "outputs": [
    {
     "name": "stdout",
     "output_type": "stream",
     "text": [
      "{\n",
      "  tag: \u001b[33m1\u001b[39m,\n",
      "  contents: \u001b[32m'Box 1'\u001b[39m,\n",
      "  left: {\n",
      "    tag: \u001b[33m1\u001b[39m,\n",
      "    contents: \u001b[32m'Box2: Left'\u001b[39m,\n",
      "    left: { tag: \u001b[33m0\u001b[39m },\n",
      "    right: { tag: \u001b[33m0\u001b[39m }\n",
      "  },\n",
      "  right: {\n",
      "    tag: \u001b[33m1\u001b[39m,\n",
      "    contents: \u001b[32m'Box 3: Right'\u001b[39m,\n",
      "    left: {\n",
      "      tag: \u001b[33m1\u001b[39m,\n",
      "      contents: \u001b[32m'Box 4: Right Bot'\u001b[39m,\n",
      "      left: \u001b[36m[Object]\u001b[39m,\n",
      "      right: \u001b[36m[Object]\u001b[39m\n",
      "    },\n",
      "    right: { tag: \u001b[33m0\u001b[39m }\n",
      "  }\n",
      "}\n"
     ]
    }
   ],
   "source": [
    "t3 // Notice how similar this is to JSON"
   ]
  },
  {
   "cell_type": "code",
   "execution_count": 31,
   "id": "f793ee4b",
   "metadata": {},
   "outputs": [
    {
     "name": "stdout",
     "output_type": "stream",
     "text": [
      "Original {\"tag\":1,\"contents\":\"Box 1\",\"left\":{\"tag\":1,\"contents\":\"Box2: Left\",\"left\":{\"tag\":0},\"right\":{\"tag\":0}},\"right\":{\"tag\":1,\"contents\":\"Box 3: Right\",\"left\":{\"tag\":1,\"contents\":\"Box 4: Right Bot\",\"left\":{\"tag\":0},\"right\":{\"tag\":0}},\"right\":{\"tag\":0}}}\n",
      "Decoded {\"tag\":1,\"contents\":\"Box 1\",\"left\":{\"tag\":1,\"contents\":\"Box2: Left\",\"left\":{\"tag\":0},\"right\":{\"tag\":0}},\"right\":{\"tag\":1,\"contents\":\"Box 3: Right\",\"left\":{\"tag\":1,\"contents\":\"Box 4: Right Bot\",\"left\":{\"tag\":0},\"right\":{\"tag\":0}},\"right\":{\"tag\":0}}}\n",
      "Decoded successfully? \u001b[33mtrue\u001b[39m\n"
     ]
    }
   ],
   "source": [
    "console.log(\"Original\", JSON.stringify(t3));\n",
    "\n",
    "fs.writeFileSync('jsonTree.json', JSON.stringify(t3));\n",
    "try {\n",
    "    const data = fs.readFileSync('jsonTree.json', 'utf8')\n",
    "    console.log(\"Decoded\", data);\n",
    "    console.log(\"Decoded successfully?\", data == JSON.stringify(t3))\n",
    "} catch (err) {\n",
    "    tslab.display.html(`<p> ${err}</p>`);\n",
    "}"
   ]
  },
  {
   "cell_type": "markdown",
   "id": "eafe2af0",
   "metadata": {},
   "source": [
    "### JSON as ADT\n",
    "\n",
    "Recall the type of `JSONObject`\n",
    "\n",
    "```\n",
    "type JSONPrimitive = string | JSONObject | undefined;\n",
    "type JSONObject = { [key: string]: JSONPrimitive } | JSONObject[];\n",
    "```\n",
    "\n",
    "Looks like we can change this to an ADT."
   ]
  },
  {
   "cell_type": "code",
   "execution_count": 35,
   "id": "5ea41bd6",
   "metadata": {},
   "outputs": [],
   "source": [
    "// JSON as ADT\n",
    "\n",
    "type JSONValue = null | string | JSONObject | JSONValue[];\n",
    "type JSONObject = { [key: string]: JSONValue };"
   ]
  },
  {
   "cell_type": "markdown",
   "id": "6aab34b8",
   "metadata": {},
   "source": [
    "And finally ADTs look like BNFS ...\n",
    "\n",
    "\\begin{align*}\n",
    "\\text{string} & ::= \\dots \\\\\n",
    "\\text{value} & ::= \\texttt{null} \\,\\,|\\,\\, \\text{<string>} \\,\\,|\\,\\, \\text{<object>} \\,\\,|\\,\\, [\\text{<value>}] \\\\\n",
    "\\text{member} & ::= \\text{string} \\, \\texttt{:} \\, \\text{value} \\\\\n",
    "\\text{object} & ::= \\texttt{\\{} [\\text{member}] \\texttt{\\}} \\\\\n",
    "\\end{align*}"
   ]
  },
  {
   "cell_type": "code",
   "execution_count": 33,
   "id": "335088bd",
   "metadata": {},
   "outputs": [
    {
     "data": {
      "text/html": [
       "\n",
       "<div class=\"bx--grid\"> Program 1: I'm a top-level program\n",
       "    <div class=\"bx--row\">\n",
       "        <div class=\"bx--col\">\n",
       "            <div class=\"bx--tile\">\n",
       "                BOX2: Sub-program 2\n",
       "            </div>\n",
       "        </div>\n",
       "        <div class=\"bx--col\">\n",
       "            <div class=\"bx--tile\">\n",
       "                BOX3: Sub-program 3\n",
       "                \n",
       "                <div class=\"bx--tile\">\n",
       "                    BOX4: A sub-sub-program\n",
       "                </div>\n",
       "            </div>\n",
       "        </div>\n",
       "    </div>\n",
       "</div>\n"
      ]
     },
     "metadata": {},
     "output_type": "display_data"
    }
   ],
   "source": [
    "tslab.display.html(`\n",
    "<div class=\"bx--grid\"> Program 1: I'm a top-level program\n",
    "    <div class=\"bx--row\">\n",
    "        <div class=\"bx--col\">\n",
    "            <div class=\"bx--tile\">\n",
    "                BOX2: Sub-program 2\n",
    "            </div>\n",
    "        </div>\n",
    "        <div class=\"bx--col\">\n",
    "            <div class=\"bx--tile\">\n",
    "                BOX3: Sub-program 3\n",
    "                \n",
    "                <div class=\"bx--tile\">\n",
    "                    BOX4: A sub-sub-program\n",
    "                </div>\n",
    "            </div>\n",
    "        </div>\n",
    "    </div>\n",
    "</div>\n",
    "`)"
   ]
  },
  {
   "cell_type": "markdown",
   "id": "a47faba8",
   "metadata": {},
   "source": [
    "## Story for Today?\n",
    "\n",
    "- We motivated ADTs + recursion as a natural way of solving a problem such as page layout.\n",
    "- This led use to realize that we needed a general way to construct data-structures which turned out to be ADTs.\n",
    "- We looked at the next simplest example of an ADT called a Tree.\n",
    "- Trees are surprisingly powerful. In particular, we saw that JSON is a \"Tree\".\n",
    "- And in fact every TypeScript object underneath looks a lot like JSON.\n",
    "- We'll continue to see the concept of recursion throughout the class."
   ]
  },
  {
   "cell_type": "code",
   "execution_count": null,
   "id": "efb70206",
   "metadata": {},
   "outputs": [],
   "source": []
  }
 ],
 "metadata": {
  "kernelspec": {
   "display_name": "TypeScript",
   "language": "typescript",
   "name": "typescript"
  },
  "language_info": {
   "codemirror_mode": {
    "mode": "typescript",
    "name": "javascript",
    "typescript": true
   },
   "file_extension": ".ts",
   "mimetype": "text/typescript",
   "name": "typescript",
   "version": "3.7.2"
  }
 },
 "nbformat": 4,
 "nbformat_minor": 5
}
